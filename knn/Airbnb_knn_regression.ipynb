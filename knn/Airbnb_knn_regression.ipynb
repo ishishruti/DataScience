{
 "cells": [
  {
   "attachments": {
    "600600p3069EDNmain1937airbnb-nyc-600-x-250.jpeg": {
     "image/jpeg": "[encoded data removed]"
    }
   },
   "cell_type": "markdown",
   "id": "ab8cec6e",
   "metadata": {},
   "source": [
    "\n",
    "![600600p3069EDNmain1937airbnb-nyc-600-x-250.jpeg](attachment:600600p3069EDNmain1937airbnb-nyc-600-x-250.jpeg)\n",
    "\n",
    "# Analyzing Airbnb New York Dataset\n",
    "\n",
    "**Goal** : The goal of this project is to understand KNN by analyzing the Airbnb New York dataset for predicting the price of an Airbnb rental.\n",
    "\n",
    "**Dataset** : The dataset used for this project is taken from [Inside Airbnb](http://insideairbnb.com/get-the-data.html).\n",
    "\n",
    "Let's start by importing the necessary libraries and reading the csv file.\n"
   ]
  },
  {
   "cell_type": "code",
   "execution_count": 415,
   "id": "8e42d256",
   "metadata": {},
   "outputs": [],
   "source": [
    "import pandas as pd\n",
    "import numpy as np\n",
    "import seaborn as sns\n",
    "import matplotlib.pyplot as plt\n",
    "from sklearn.neighbors import KNeighborsRegressor\n",
    "from sklearn.preprocessing import MinMaxScaler\n",
    "from sklearn.metrics import mean_squared_error"
   ]
  },
  {
   "cell_type": "code",
   "execution_count": 376,
   "id": "5fd99e67",
   "metadata": {},
   "outputs": [],
   "source": [
    "airbnb_df = pd.read_csv('airbnb_newyork.csv', low_memory=False)"
   ]
  },
  {
   "cell_type": "markdown",
   "id": "05f91e1f",
   "metadata": {},
   "source": [
    "\n",
    "\n",
    "Now, let's look at the various columns of our dataframe. Almost all the column names are self explanatory but if you need further description, head over to [Inside Airbnb Data Dictionary](https://docs.google.com/spreadsheets/d/1iWCNJcSutYqpULSQHlNyGInUvHg2BoUGoNRIGa6Szc4/edit#gid=982310896)\n",
    "\n"
   ]
  },
  {
   "cell_type": "code",
   "execution_count": 393,
   "id": "8e942e3e",
   "metadata": {},
   "outputs": [
    {
     "data": {
      "text/html": [
       "<div>\n",
       "<style scoped>\n",
       "    .dataframe tbody tr th:only-of-type {\n",
       "        vertical-align: middle;\n",
       "    }\n",
       "\n",
       "    .dataframe tbody tr th {\n",
       "        vertical-align: top;\n",
       "    }\n",
       "\n",
       "    .dataframe thead th {\n",
       "        text-align: right;\n",
       "    }\n",
       "</style>\n",
       "<table border=\"1\" class=\"dataframe\">\n",
       "  <thead>\n",
       "    <tr style=\"text-align: right;\">\n",
       "      <th></th>\n",
       "      <th>id</th>\n",
       "      <th>listing_url</th>\n",
       "      <th>scrape_id</th>\n",
       "      <th>last_scraped</th>\n",
       "      <th>name</th>\n",
       "      <th>description</th>\n",
       "      <th>neighborhood_overview</th>\n",
       "      <th>picture_url</th>\n",
       "      <th>host_id</th>\n",
       "      <th>host_url</th>\n",
       "      <th>...</th>\n",
       "      <th>review_scores_communication</th>\n",
       "      <th>review_scores_location</th>\n",
       "      <th>review_scores_value</th>\n",
       "      <th>license</th>\n",
       "      <th>instant_bookable</th>\n",
       "      <th>calculated_host_listings_count</th>\n",
       "      <th>calculated_host_listings_count_entire_homes</th>\n",
       "      <th>calculated_host_listings_count_private_rooms</th>\n",
       "      <th>calculated_host_listings_count_shared_rooms</th>\n",
       "      <th>reviews_per_month</th>\n",
       "    </tr>\n",
       "  </thead>\n",
       "  <tbody>\n",
       "    <tr>\n",
       "      <th>0</th>\n",
       "      <td>2595</td>\n",
       "      <td>https://www.airbnb.com/rooms/2595</td>\n",
       "      <td>20220106025017</td>\n",
       "      <td>2022-01-06</td>\n",
       "      <td>Skylit Midtown Castle</td>\n",
       "      <td>Beautiful, spacious skylit studio in the heart...</td>\n",
       "      <td>Centrally located in the heart of Manhattan ju...</td>\n",
       "      <td>https://a0.muscache.com/pictures/f0813a11-40b2...</td>\n",
       "      <td>2845</td>\n",
       "      <td>https://www.airbnb.com/users/show/2845</td>\n",
       "      <td>...</td>\n",
       "      <td>4.79</td>\n",
       "      <td>4.86</td>\n",
       "      <td>4.41</td>\n",
       "      <td>NaN</td>\n",
       "      <td>f</td>\n",
       "      <td>3</td>\n",
       "      <td>3</td>\n",
       "      <td>0</td>\n",
       "      <td>0</td>\n",
       "      <td>0.33</td>\n",
       "    </tr>\n",
       "    <tr>\n",
       "      <th>1</th>\n",
       "      <td>3831</td>\n",
       "      <td>https://www.airbnb.com/rooms/3831</td>\n",
       "      <td>20220106025017</td>\n",
       "      <td>2022-01-06</td>\n",
       "      <td>Whole flr w/private bdrm, bath &amp; kitchen(pls r...</td>\n",
       "      <td>Enjoy 500 s.f. top floor in 1899 brownstone, w...</td>\n",
       "      <td>Just the right mix of urban center and local n...</td>\n",
       "      <td>https://a0.muscache.com/pictures/e49999c2-9fd5...</td>\n",
       "      <td>4869</td>\n",
       "      <td>https://www.airbnb.com/users/show/4869</td>\n",
       "      <td>...</td>\n",
       "      <td>4.80</td>\n",
       "      <td>4.71</td>\n",
       "      <td>4.64</td>\n",
       "      <td>NaN</td>\n",
       "      <td>f</td>\n",
       "      <td>1</td>\n",
       "      <td>1</td>\n",
       "      <td>0</td>\n",
       "      <td>0</td>\n",
       "      <td>4.62</td>\n",
       "    </tr>\n",
       "    <tr>\n",
       "      <th>2</th>\n",
       "      <td>5121</td>\n",
       "      <td>https://www.airbnb.com/rooms/5121</td>\n",
       "      <td>20220106025017</td>\n",
       "      <td>2022-01-06</td>\n",
       "      <td>BlissArtsSpace!</td>\n",
       "      <td>&lt;b&gt;The space&lt;/b&gt;&lt;br /&gt;HELLO EVERYONE AND THANK...</td>\n",
       "      <td>NaN</td>\n",
       "      <td>https://a0.muscache.com/pictures/2090980c-b68e...</td>\n",
       "      <td>7356</td>\n",
       "      <td>https://www.airbnb.com/users/show/7356</td>\n",
       "      <td>...</td>\n",
       "      <td>4.91</td>\n",
       "      <td>4.47</td>\n",
       "      <td>4.52</td>\n",
       "      <td>NaN</td>\n",
       "      <td>f</td>\n",
       "      <td>2</td>\n",
       "      <td>0</td>\n",
       "      <td>2</td>\n",
       "      <td>0</td>\n",
       "      <td>0.33</td>\n",
       "    </tr>\n",
       "    <tr>\n",
       "      <th>3</th>\n",
       "      <td>5136</td>\n",
       "      <td>https://www.airbnb.com/rooms/5136</td>\n",
       "      <td>20220106025017</td>\n",
       "      <td>2022-01-06</td>\n",
       "      <td>Spacious Brooklyn Duplex, Patio + Garden</td>\n",
       "      <td>We welcome you to stay in our lovely 2 br dupl...</td>\n",
       "      <td>NaN</td>\n",
       "      <td>https://a0.muscache.com/pictures/miso/Hosting-...</td>\n",
       "      <td>7378</td>\n",
       "      <td>https://www.airbnb.com/users/show/7378</td>\n",
       "      <td>...</td>\n",
       "      <td>5.00</td>\n",
       "      <td>4.50</td>\n",
       "      <td>5.00</td>\n",
       "      <td>NaN</td>\n",
       "      <td>f</td>\n",
       "      <td>1</td>\n",
       "      <td>1</td>\n",
       "      <td>0</td>\n",
       "      <td>0</td>\n",
       "      <td>0.02</td>\n",
       "    </tr>\n",
       "    <tr>\n",
       "      <th>4</th>\n",
       "      <td>5178</td>\n",
       "      <td>https://www.airbnb.com/rooms/5178</td>\n",
       "      <td>20220106025017</td>\n",
       "      <td>2022-01-07</td>\n",
       "      <td>Large Furnished Room Near B'way</td>\n",
       "      <td>Please don’t expect the luxury here just a bas...</td>\n",
       "      <td>Theater district, many restaurants around here.</td>\n",
       "      <td>https://a0.muscache.com/pictures/12065/f070997...</td>\n",
       "      <td>8967</td>\n",
       "      <td>https://www.airbnb.com/users/show/8967</td>\n",
       "      <td>...</td>\n",
       "      <td>4.42</td>\n",
       "      <td>4.87</td>\n",
       "      <td>4.36</td>\n",
       "      <td>NaN</td>\n",
       "      <td>f</td>\n",
       "      <td>1</td>\n",
       "      <td>0</td>\n",
       "      <td>1</td>\n",
       "      <td>0</td>\n",
       "      <td>3.33</td>\n",
       "    </tr>\n",
       "  </tbody>\n",
       "</table>\n",
       "<p>5 rows × 74 columns</p>\n",
       "</div>"
      ],
      "text/plain": [
       "     id                        listing_url       scrape_id last_scraped  \\\n",
       "0  2595  https://www.airbnb.com/rooms/2595  20220106025017   2022-01-06   \n",
       "1  3831  https://www.airbnb.com/rooms/3831  20220106025017   2022-01-06   \n",
       "2  5121  https://www.airbnb.com/rooms/5121  20220106025017   2022-01-06   \n",
       "3  5136  https://www.airbnb.com/rooms/5136  20220106025017   2022-01-06   \n",
       "4  5178  https://www.airbnb.com/rooms/5178  20220106025017   2022-01-07   \n",
       "\n",
       "                                                name  \\\n",
       "0                              Skylit Midtown Castle   \n",
       "1  Whole flr w/private bdrm, bath & kitchen(pls r...   \n",
       "2                                    BlissArtsSpace!   \n",
       "3           Spacious Brooklyn Duplex, Patio + Garden   \n",
       "4                   Large Furnished Room Near B'way　   \n",
       "\n",
       "                                         description  \\\n",
       "0  Beautiful, spacious skylit studio in the heart...   \n",
       "1  Enjoy 500 s.f. top floor in 1899 brownstone, w...   \n",
       "2  <b>The space</b><br />HELLO EVERYONE AND THANK...   \n",
       "3  We welcome you to stay in our lovely 2 br dupl...   \n",
       "4  Please don’t expect the luxury here just a bas...   \n",
       "\n",
       "                               neighborhood_overview  \\\n",
       "0  Centrally located in the heart of Manhattan ju...   \n",
       "1  Just the right mix of urban center and local n...   \n",
       "2                                                NaN   \n",
       "3                                                NaN   \n",
       "4    Theater district, many restaurants around here.   \n",
       "\n",
       "                                         picture_url  host_id  \\\n",
       "0  https://a0.muscache.com/pictures/f0813a11-40b2...     2845   \n",
       "1  https://a0.muscache.com/pictures/e49999c2-9fd5...     4869   \n",
       "2  https://a0.muscache.com/pictures/2090980c-b68e...     7356   \n",
       "3  https://a0.muscache.com/pictures/miso/Hosting-...     7378   \n",
       "4  https://a0.muscache.com/pictures/12065/f070997...     8967   \n",
       "\n",
       "                                 host_url  ... review_scores_communication  \\\n",
       "0  https://www.airbnb.com/users/show/2845  ...                        4.79   \n",
       "1  https://www.airbnb.com/users/show/4869  ...                        4.80   \n",
       "2  https://www.airbnb.com/users/show/7356  ...                        4.91   \n",
       "3  https://www.airbnb.com/users/show/7378  ...                        5.00   \n",
       "4  https://www.airbnb.com/users/show/8967  ...                        4.42   \n",
       "\n",
       "  review_scores_location review_scores_value license instant_bookable  \\\n",
       "0                   4.86                4.41     NaN                f   \n",
       "1                   4.71                4.64     NaN                f   \n",
       "2                   4.47                4.52     NaN                f   \n",
       "3                   4.50                5.00     NaN                f   \n",
       "4                   4.87                4.36     NaN                f   \n",
       "\n",
       "  calculated_host_listings_count calculated_host_listings_count_entire_homes  \\\n",
       "0                              3                                           3   \n",
       "1                              1                                           1   \n",
       "2                              2                                           0   \n",
       "3                              1                                           1   \n",
       "4                              1                                           0   \n",
       "\n",
       "  calculated_host_listings_count_private_rooms  \\\n",
       "0                                            0   \n",
       "1                                            0   \n",
       "2                                            2   \n",
       "3                                            0   \n",
       "4                                            1   \n",
       "\n",
       "  calculated_host_listings_count_shared_rooms reviews_per_month  \n",
       "0                                           0              0.33  \n",
       "1                                           0              4.62  \n",
       "2                                           0              0.33  \n",
       "3                                           0              0.02  \n",
       "4                                           0              3.33  \n",
       "\n",
       "[5 rows x 74 columns]"
      ]
     },
     "execution_count": 393,
     "metadata": {},
     "output_type": "execute_result"
    }
   ],
   "source": [
    "airbnb_df.head()"
   ]
  },
  {
   "cell_type": "code",
   "execution_count": 377,
   "id": "9de3ba1e",
   "metadata": {},
   "outputs": [
    {
     "data": {
      "text/plain": [
       "Index(['id', 'listing_url', 'scrape_id', 'last_scraped', 'name', 'description',\n",
       "       'neighborhood_overview', 'picture_url', 'host_id', 'host_url',\n",
       "       'host_name', 'host_since', 'host_location', 'host_about',\n",
       "       'host_response_time', 'host_response_rate', 'host_acceptance_rate',\n",
       "       'host_is_superhost', 'host_thumbnail_url', 'host_picture_url',\n",
       "       'host_neighbourhood', 'host_listings_count',\n",
       "       'host_total_listings_count', 'host_verifications',\n",
       "       'host_has_profile_pic', 'host_identity_verified', 'neighbourhood',\n",
       "       'neighbourhood_cleansed', 'neighbourhood_group_cleansed', 'latitude',\n",
       "       'longitude', 'property_type', 'room_type', 'accommodates', 'bathrooms',\n",
       "       'bathrooms_text', 'bedrooms', 'beds', 'amenities', 'price',\n",
       "       'minimum_nights', 'maximum_nights', 'minimum_minimum_nights',\n",
       "       'maximum_minimum_nights', 'minimum_maximum_nights',\n",
       "       'maximum_maximum_nights', 'minimum_nights_avg_ntm',\n",
       "       'maximum_nights_avg_ntm', 'calendar_updated', 'has_availability',\n",
       "       'availability_30', 'availability_60', 'availability_90',\n",
       "       'availability_365', 'calendar_last_scraped', 'number_of_reviews',\n",
       "       'number_of_reviews_ltm', 'number_of_reviews_l30d', 'first_review',\n",
       "       'last_review', 'review_scores_rating', 'review_scores_accuracy',\n",
       "       'review_scores_cleanliness', 'review_scores_checkin',\n",
       "       'review_scores_communication', 'review_scores_location',\n",
       "       'review_scores_value', 'license', 'instant_bookable',\n",
       "       'calculated_host_listings_count',\n",
       "       'calculated_host_listings_count_entire_homes',\n",
       "       'calculated_host_listings_count_private_rooms',\n",
       "       'calculated_host_listings_count_shared_rooms', 'reviews_per_month'],\n",
       "      dtype='object')"
      ]
     },
     "execution_count": 377,
     "metadata": {},
     "output_type": "execute_result"
    }
   ],
   "source": [
    "airbnb_df.columns"
   ]
  },
  {
   "cell_type": "code",
   "execution_count": 378,
   "id": "6326f08c",
   "metadata": {},
   "outputs": [
    {
     "name": "stdout",
     "output_type": "stream",
     "text": [
      "<class 'pandas.core.frame.DataFrame'>\n",
      "RangeIndex: 38185 entries, 0 to 38184\n",
      "Data columns (total 74 columns):\n",
      " #   Column                                        Non-Null Count  Dtype  \n",
      "---  ------                                        --------------  -----  \n",
      " 0   id                                            38185 non-null  int64  \n",
      " 1   listing_url                                   38185 non-null  object \n",
      " 2   scrape_id                                     38185 non-null  int64  \n",
      " 3   last_scraped                                  38185 non-null  object \n",
      " 4   name                                          38171 non-null  object \n",
      " 5   description                                   37077 non-null  object \n",
      " 6   neighborhood_overview                         22560 non-null  object \n",
      " 7   picture_url                                   38185 non-null  object \n",
      " 8   host_id                                       38185 non-null  int64  \n",
      " 9   host_url                                      38185 non-null  object \n",
      " 10  host_name                                     38138 non-null  object \n",
      " 11  host_since                                    38138 non-null  object \n",
      " 12  host_location                                 38036 non-null  object \n",
      " 13  host_about                                    21872 non-null  object \n",
      " 14  host_response_time                            23895 non-null  object \n",
      " 15  host_response_rate                            23895 non-null  object \n",
      " 16  host_acceptance_rate                          24875 non-null  object \n",
      " 17  host_is_superhost                             38138 non-null  object \n",
      " 18  host_thumbnail_url                            38138 non-null  object \n",
      " 19  host_picture_url                              38138 non-null  object \n",
      " 20  host_neighbourhood                            30761 non-null  object \n",
      " 21  host_listings_count                           38138 non-null  float64\n",
      " 22  host_total_listings_count                     38138 non-null  float64\n",
      " 23  host_verifications                            38185 non-null  object \n",
      " 24  host_has_profile_pic                          38138 non-null  object \n",
      " 25  host_identity_verified                        38138 non-null  object \n",
      " 26  neighbourhood                                 22561 non-null  object \n",
      " 27  neighbourhood_cleansed                        38185 non-null  object \n",
      " 28  neighbourhood_group_cleansed                  38185 non-null  object \n",
      " 29  latitude                                      38185 non-null  float64\n",
      " 30  longitude                                     38185 non-null  float64\n",
      " 31  property_type                                 38185 non-null  object \n",
      " 32  room_type                                     38185 non-null  object \n",
      " 33  accommodates                                  38185 non-null  int64  \n",
      " 34  bathrooms                                     0 non-null      float64\n",
      " 35  bathrooms_text                                38082 non-null  object \n",
      " 36  bedrooms                                      34296 non-null  float64\n",
      " 37  beds                                          36898 non-null  float64\n",
      " 38  amenities                                     38185 non-null  object \n",
      " 39  price                                         38185 non-null  object \n",
      " 40  minimum_nights                                38185 non-null  int64  \n",
      " 41  maximum_nights                                38185 non-null  int64  \n",
      " 42  minimum_minimum_nights                        38167 non-null  float64\n",
      " 43  maximum_minimum_nights                        38167 non-null  float64\n",
      " 44  minimum_maximum_nights                        38167 non-null  float64\n",
      " 45  maximum_maximum_nights                        38167 non-null  float64\n",
      " 46  minimum_nights_avg_ntm                        38167 non-null  float64\n",
      " 47  maximum_nights_avg_ntm                        38167 non-null  float64\n",
      " 48  calendar_updated                              0 non-null      float64\n",
      " 49  has_availability                              38185 non-null  object \n",
      " 50  availability_30                               38185 non-null  int64  \n",
      " 51  availability_60                               38185 non-null  int64  \n",
      " 52  availability_90                               38185 non-null  int64  \n",
      " 53  availability_365                              38185 non-null  int64  \n",
      " 54  calendar_last_scraped                         38185 non-null  object \n",
      " 55  number_of_reviews                             38185 non-null  int64  \n",
      " 56  number_of_reviews_ltm                         38185 non-null  int64  \n",
      " 57  number_of_reviews_l30d                        38185 non-null  int64  \n",
      " 58  first_review                                  29009 non-null  object \n",
      " 59  last_review                                   29009 non-null  object \n",
      " 60  review_scores_rating                          29009 non-null  float64\n",
      " 61  review_scores_accuracy                        28426 non-null  float64\n",
      " 62  review_scores_cleanliness                     28437 non-null  float64\n",
      " 63  review_scores_checkin                         28420 non-null  float64\n",
      " 64  review_scores_communication                   28430 non-null  float64\n",
      " 65  review_scores_location                        28417 non-null  float64\n",
      " 66  review_scores_value                           28416 non-null  float64\n",
      " 67  license                                       1 non-null      object \n",
      " 68  instant_bookable                              38185 non-null  object \n",
      " 69  calculated_host_listings_count                38185 non-null  int64  \n",
      " 70  calculated_host_listings_count_entire_homes   38185 non-null  int64  \n",
      " 71  calculated_host_listings_count_private_rooms  38185 non-null  int64  \n",
      " 72  calculated_host_listings_count_shared_rooms   38185 non-null  int64  \n",
      " 73  reviews_per_month                             29009 non-null  float64\n",
      "dtypes: float64(22), int64(17), object(35)\n",
      "memory usage: 21.6+ MB\n"
     ]
    }
   ],
   "source": [
    "airbnb_df.info()"
   ]
  },
  {
   "cell_type": "markdown",
   "id": "9f6af89c",
   "metadata": {},
   "source": [
    "## Finding the relevant features\n",
    "Our dataset has huge number of columns. Since we are trying to predict the price of an Airbnb rental, let's try to find out features that would be correlated with the price intuitively."
   ]
  },
  {
   "cell_type": "code",
   "execution_count": 383,
   "id": "5fd0a252",
   "metadata": {},
   "outputs": [],
   "source": [
    "airbnb_df_reduced = airbnb_df.copy()"
   ]
  },
  {
   "cell_type": "code",
   "execution_count": 384,
   "id": "910813bd",
   "metadata": {},
   "outputs": [],
   "source": [
    "airbnb_df_reduced = airbnb_df_reduced[\n",
    "    [\n",
    "        'neighbourhood_cleansed','latitude','longitude', 'property_type', \n",
    "        'room_type', 'accommodates', 'bathrooms_text',\n",
    "        'bedrooms', 'beds', 'amenities', 'price', \n",
    "        'number_of_reviews'\n",
    "    ]\n",
    "]"
   ]
  },
  {
   "cell_type": "code",
   "execution_count": 385,
   "id": "08b7ca79",
   "metadata": {},
   "outputs": [
    {
     "name": "stdout",
     "output_type": "stream",
     "text": [
      "<class 'pandas.core.frame.DataFrame'>\n",
      "RangeIndex: 38185 entries, 0 to 38184\n",
      "Data columns (total 12 columns):\n",
      " #   Column                  Non-Null Count  Dtype  \n",
      "---  ------                  --------------  -----  \n",
      " 0   neighbourhood_cleansed  38185 non-null  object \n",
      " 1   latitude                38185 non-null  float64\n",
      " 2   longitude               38185 non-null  float64\n",
      " 3   property_type           38185 non-null  object \n",
      " 4   room_type               38185 non-null  object \n",
      " 5   accommodates            38185 non-null  int64  \n",
      " 6   bathrooms_text          38082 non-null  object \n",
      " 7   bedrooms                34296 non-null  float64\n",
      " 8   beds                    36898 non-null  float64\n",
      " 9   amenities               38185 non-null  object \n",
      " 10  price                   38185 non-null  object \n",
      " 11  number_of_reviews       38185 non-null  int64  \n",
      "dtypes: float64(4), int64(2), object(6)\n",
      "memory usage: 3.5+ MB\n"
     ]
    }
   ],
   "source": [
    "airbnb_df_reduced.info()"
   ]
  },
  {
   "cell_type": "code",
   "execution_count": 386,
   "id": "59fbc3e9",
   "metadata": {},
   "outputs": [
    {
     "data": {
      "text/html": [
       "<div>\n",
       "<style scoped>\n",
       "    .dataframe tbody tr th:only-of-type {\n",
       "        vertical-align: middle;\n",
       "    }\n",
       "\n",
       "    .dataframe tbody tr th {\n",
       "        vertical-align: top;\n",
       "    }\n",
       "\n",
       "    .dataframe thead th {\n",
       "        text-align: right;\n",
       "    }\n",
       "</style>\n",
       "<table border=\"1\" class=\"dataframe\">\n",
       "  <thead>\n",
       "    <tr style=\"text-align: right;\">\n",
       "      <th></th>\n",
       "      <th>neighbourhood_cleansed</th>\n",
       "      <th>latitude</th>\n",
       "      <th>longitude</th>\n",
       "      <th>property_type</th>\n",
       "      <th>room_type</th>\n",
       "      <th>accommodates</th>\n",
       "      <th>bathrooms_text</th>\n",
       "      <th>bedrooms</th>\n",
       "      <th>beds</th>\n",
       "      <th>amenities</th>\n",
       "      <th>price</th>\n",
       "      <th>number_of_reviews</th>\n",
       "    </tr>\n",
       "  </thead>\n",
       "  <tbody>\n",
       "    <tr>\n",
       "      <th>1</th>\n",
       "      <td>Bedford-Stuyvesant</td>\n",
       "      <td>40.68494</td>\n",
       "      <td>-73.95765</td>\n",
       "      <td>Entire guest suite</td>\n",
       "      <td>Entire home/apt</td>\n",
       "      <td>3</td>\n",
       "      <td>1 bath</td>\n",
       "      <td>1.0</td>\n",
       "      <td>3.0</td>\n",
       "      <td>[\"Hot water\", \"Iron\", \"Children\\u2019s books a...</td>\n",
       "      <td>$73.00</td>\n",
       "      <td>409</td>\n",
       "    </tr>\n",
       "    <tr>\n",
       "      <th>3</th>\n",
       "      <td>Sunset Park</td>\n",
       "      <td>40.66265</td>\n",
       "      <td>-73.99454</td>\n",
       "      <td>Entire rental unit</td>\n",
       "      <td>Entire home/apt</td>\n",
       "      <td>4</td>\n",
       "      <td>1.5 baths</td>\n",
       "      <td>2.0</td>\n",
       "      <td>2.0</td>\n",
       "      <td>[\"Cable TV\", \"TV with standard cable\", \"Outdoo...</td>\n",
       "      <td>$275.00</td>\n",
       "      <td>2</td>\n",
       "    </tr>\n",
       "    <tr>\n",
       "      <th>4</th>\n",
       "      <td>Midtown</td>\n",
       "      <td>40.76457</td>\n",
       "      <td>-73.98317</td>\n",
       "      <td>Private room in rental unit</td>\n",
       "      <td>Private room</td>\n",
       "      <td>2</td>\n",
       "      <td>1 bath</td>\n",
       "      <td>1.0</td>\n",
       "      <td>1.0</td>\n",
       "      <td>[\"Hot water\", \"Body soap\", \"Iron\", \"Lock on be...</td>\n",
       "      <td>$68.00</td>\n",
       "      <td>514</td>\n",
       "    </tr>\n",
       "    <tr>\n",
       "      <th>5</th>\n",
       "      <td>Upper West Side</td>\n",
       "      <td>40.80380</td>\n",
       "      <td>-73.96751</td>\n",
       "      <td>Private room in rental unit</td>\n",
       "      <td>Private room</td>\n",
       "      <td>1</td>\n",
       "      <td>1 shared bath</td>\n",
       "      <td>1.0</td>\n",
       "      <td>1.0</td>\n",
       "      <td>[\"Fire extinguisher\", \"Hot water\", \"Carbon mon...</td>\n",
       "      <td>$75.00</td>\n",
       "      <td>118</td>\n",
       "    </tr>\n",
       "    <tr>\n",
       "      <th>6</th>\n",
       "      <td>South Slope</td>\n",
       "      <td>40.66801</td>\n",
       "      <td>-73.98784</td>\n",
       "      <td>Private room in townhouse</td>\n",
       "      <td>Private room</td>\n",
       "      <td>2</td>\n",
       "      <td>1.5 baths</td>\n",
       "      <td>1.0</td>\n",
       "      <td>1.0</td>\n",
       "      <td>[\"Free washer \\u2013 In building\", \"Hot water\"...</td>\n",
       "      <td>$110.00</td>\n",
       "      <td>205</td>\n",
       "    </tr>\n",
       "  </tbody>\n",
       "</table>\n",
       "</div>"
      ],
      "text/plain": [
       "  neighbourhood_cleansed  latitude  longitude                property_type  \\\n",
       "1     Bedford-Stuyvesant  40.68494  -73.95765           Entire guest suite   \n",
       "3            Sunset Park  40.66265  -73.99454           Entire rental unit   \n",
       "4                Midtown  40.76457  -73.98317  Private room in rental unit   \n",
       "5        Upper West Side  40.80380  -73.96751  Private room in rental unit   \n",
       "6            South Slope  40.66801  -73.98784    Private room in townhouse   \n",
       "\n",
       "         room_type  accommodates bathrooms_text  bedrooms  beds  \\\n",
       "1  Entire home/apt             3         1 bath       1.0   3.0   \n",
       "3  Entire home/apt             4      1.5 baths       2.0   2.0   \n",
       "4     Private room             2         1 bath       1.0   1.0   \n",
       "5     Private room             1  1 shared bath       1.0   1.0   \n",
       "6     Private room             2      1.5 baths       1.0   1.0   \n",
       "\n",
       "                                           amenities    price  \\\n",
       "1  [\"Hot water\", \"Iron\", \"Children\\u2019s books a...   $73.00   \n",
       "3  [\"Cable TV\", \"TV with standard cable\", \"Outdoo...  $275.00   \n",
       "4  [\"Hot water\", \"Body soap\", \"Iron\", \"Lock on be...   $68.00   \n",
       "5  [\"Fire extinguisher\", \"Hot water\", \"Carbon mon...   $75.00   \n",
       "6  [\"Free washer \\u2013 In building\", \"Hot water\"...  $110.00   \n",
       "\n",
       "   number_of_reviews  \n",
       "1                409  \n",
       "3                  2  \n",
       "4                514  \n",
       "5                118  \n",
       "6                205  "
      ]
     },
     "execution_count": 386,
     "metadata": {},
     "output_type": "execute_result"
    }
   ],
   "source": [
    "airbnb_df_reduced = airbnb_df_reduced.dropna() #Removing rows with null values\n",
    "airbnb_df_reduced.head()"
   ]
  },
  {
   "cell_type": "code",
   "execution_count": 387,
   "id": "7ec7cf64",
   "metadata": {},
   "outputs": [
    {
     "name": "stdout",
     "output_type": "stream",
     "text": [
      "<class 'pandas.core.frame.DataFrame'>\n",
      "Int64Index: 33160 entries, 1 to 38184\n",
      "Data columns (total 12 columns):\n",
      " #   Column                  Non-Null Count  Dtype  \n",
      "---  ------                  --------------  -----  \n",
      " 0   neighbourhood_cleansed  33160 non-null  object \n",
      " 1   latitude                33160 non-null  float64\n",
      " 2   longitude               33160 non-null  float64\n",
      " 3   property_type           33160 non-null  object \n",
      " 4   room_type               33160 non-null  object \n",
      " 5   accommodates            33160 non-null  int64  \n",
      " 6   bathrooms_text          33160 non-null  object \n",
      " 7   bedrooms                33160 non-null  float64\n",
      " 8   beds                    33160 non-null  float64\n",
      " 9   amenities               33160 non-null  object \n",
      " 10  price                   33160 non-null  object \n",
      " 11  number_of_reviews       33160 non-null  int64  \n",
      "dtypes: float64(4), int64(2), object(6)\n",
      "memory usage: 3.3+ MB\n"
     ]
    }
   ],
   "source": [
    "airbnb_df_reduced.info()"
   ]
  },
  {
   "cell_type": "markdown",
   "id": "6a922483",
   "metadata": {},
   "source": [
    "We can see that most of the columns here are not numeric (including the price). Let's try cleaning the columns, converting them into proper formats and analyzing it further."
   ]
  },
  {
   "cell_type": "code",
   "execution_count": 388,
   "id": "e72ecb0f",
   "metadata": {},
   "outputs": [
    {
     "name": "stderr",
     "output_type": "stream",
     "text": [
      "<ipython-input-388-ffe895fa7091>:4: FutureWarning: The default value of regex will change from True to False in a future version. In addition, single character regular expressions will*not* be treated as literal strings when regex=True.\n",
      "  airbnb_df_reduced['price'] = airbnb_df_reduced['price'].str.replace(',','').str.replace('$','').astype(float)\n"
     ]
    },
    {
     "data": {
      "text/html": [
       "<div>\n",
       "<style scoped>\n",
       "    .dataframe tbody tr th:only-of-type {\n",
       "        vertical-align: middle;\n",
       "    }\n",
       "\n",
       "    .dataframe tbody tr th {\n",
       "        vertical-align: top;\n",
       "    }\n",
       "\n",
       "    .dataframe thead th {\n",
       "        text-align: right;\n",
       "    }\n",
       "</style>\n",
       "<table border=\"1\" class=\"dataframe\">\n",
       "  <thead>\n",
       "    <tr style=\"text-align: right;\">\n",
       "      <th></th>\n",
       "      <th>neighbourhood_cleansed</th>\n",
       "      <th>latitude</th>\n",
       "      <th>longitude</th>\n",
       "      <th>property_type</th>\n",
       "      <th>room_type</th>\n",
       "      <th>accommodates</th>\n",
       "      <th>bathrooms_text</th>\n",
       "      <th>bedrooms</th>\n",
       "      <th>beds</th>\n",
       "      <th>amenities</th>\n",
       "      <th>price</th>\n",
       "      <th>number_of_reviews</th>\n",
       "    </tr>\n",
       "  </thead>\n",
       "  <tbody>\n",
       "    <tr>\n",
       "      <th>1</th>\n",
       "      <td>Bedford-Stuyvesant</td>\n",
       "      <td>40.68494</td>\n",
       "      <td>-73.95765</td>\n",
       "      <td>Entire guest suite</td>\n",
       "      <td>Entire home/apt</td>\n",
       "      <td>3</td>\n",
       "      <td>1</td>\n",
       "      <td>1.0</td>\n",
       "      <td>3.0</td>\n",
       "      <td>[\"Hot water\", \"Iron\", \"Children\\u2019s books a...</td>\n",
       "      <td>73.0</td>\n",
       "      <td>409</td>\n",
       "    </tr>\n",
       "    <tr>\n",
       "      <th>3</th>\n",
       "      <td>Sunset Park</td>\n",
       "      <td>40.66265</td>\n",
       "      <td>-73.99454</td>\n",
       "      <td>Entire rental unit</td>\n",
       "      <td>Entire home/apt</td>\n",
       "      <td>4</td>\n",
       "      <td>1.5</td>\n",
       "      <td>2.0</td>\n",
       "      <td>2.0</td>\n",
       "      <td>[\"Cable TV\", \"TV with standard cable\", \"Outdoo...</td>\n",
       "      <td>275.0</td>\n",
       "      <td>2</td>\n",
       "    </tr>\n",
       "    <tr>\n",
       "      <th>4</th>\n",
       "      <td>Midtown</td>\n",
       "      <td>40.76457</td>\n",
       "      <td>-73.98317</td>\n",
       "      <td>Private room in rental unit</td>\n",
       "      <td>Private room</td>\n",
       "      <td>2</td>\n",
       "      <td>1</td>\n",
       "      <td>1.0</td>\n",
       "      <td>1.0</td>\n",
       "      <td>[\"Hot water\", \"Body soap\", \"Iron\", \"Lock on be...</td>\n",
       "      <td>68.0</td>\n",
       "      <td>514</td>\n",
       "    </tr>\n",
       "    <tr>\n",
       "      <th>5</th>\n",
       "      <td>Upper West Side</td>\n",
       "      <td>40.80380</td>\n",
       "      <td>-73.96751</td>\n",
       "      <td>Private room in rental unit</td>\n",
       "      <td>Private room</td>\n",
       "      <td>1</td>\n",
       "      <td>1</td>\n",
       "      <td>1.0</td>\n",
       "      <td>1.0</td>\n",
       "      <td>[\"Fire extinguisher\", \"Hot water\", \"Carbon mon...</td>\n",
       "      <td>75.0</td>\n",
       "      <td>118</td>\n",
       "    </tr>\n",
       "    <tr>\n",
       "      <th>6</th>\n",
       "      <td>South Slope</td>\n",
       "      <td>40.66801</td>\n",
       "      <td>-73.98784</td>\n",
       "      <td>Private room in townhouse</td>\n",
       "      <td>Private room</td>\n",
       "      <td>2</td>\n",
       "      <td>1.5</td>\n",
       "      <td>1.0</td>\n",
       "      <td>1.0</td>\n",
       "      <td>[\"Free washer \\u2013 In building\", \"Hot water\"...</td>\n",
       "      <td>110.0</td>\n",
       "      <td>205</td>\n",
       "    </tr>\n",
       "  </tbody>\n",
       "</table>\n",
       "</div>"
      ],
      "text/plain": [
       "  neighbourhood_cleansed  latitude  longitude                property_type  \\\n",
       "1     Bedford-Stuyvesant  40.68494  -73.95765           Entire guest suite   \n",
       "3            Sunset Park  40.66265  -73.99454           Entire rental unit   \n",
       "4                Midtown  40.76457  -73.98317  Private room in rental unit   \n",
       "5        Upper West Side  40.80380  -73.96751  Private room in rental unit   \n",
       "6            South Slope  40.66801  -73.98784    Private room in townhouse   \n",
       "\n",
       "         room_type  accommodates bathrooms_text  bedrooms  beds  \\\n",
       "1  Entire home/apt             3              1       1.0   3.0   \n",
       "3  Entire home/apt             4            1.5       2.0   2.0   \n",
       "4     Private room             2              1       1.0   1.0   \n",
       "5     Private room             1              1       1.0   1.0   \n",
       "6     Private room             2            1.5       1.0   1.0   \n",
       "\n",
       "                                           amenities  price  number_of_reviews  \n",
       "1  [\"Hot water\", \"Iron\", \"Children\\u2019s books a...   73.0                409  \n",
       "3  [\"Cable TV\", \"TV with standard cable\", \"Outdoo...  275.0                  2  \n",
       "4  [\"Hot water\", \"Body soap\", \"Iron\", \"Lock on be...   68.0                514  \n",
       "5  [\"Fire extinguisher\", \"Hot water\", \"Carbon mon...   75.0                118  \n",
       "6  [\"Free washer \\u2013 In building\", \"Hot water\"...  110.0                205  "
      ]
     },
     "execution_count": 388,
     "metadata": {},
     "output_type": "execute_result"
    }
   ],
   "source": [
    "#extracting the numeric value from bathrooms_text\n",
    "airbnb_df_reduced['bathrooms_text'] = airbnb_df_reduced['bathrooms_text'].str.split().str[0] \n",
    "#extracting the numeric value from price column\n",
    "airbnb_df_reduced['price'] = airbnb_df_reduced['price'].str.replace(',','').str.replace('$','').astype(float)\n",
    "airbnb_df_reduced.head()"
   ]
  },
  {
   "cell_type": "code",
   "execution_count": 389,
   "id": "3ab0adc1",
   "metadata": {},
   "outputs": [
    {
     "data": {
      "text/plain": [
       "1            27282\n",
       "2             3155\n",
       "1.5           1615\n",
       "2.5            399\n",
       "3              283\n",
       "0              154\n",
       "4               86\n",
       "3.5             80\n",
       "Half-bath       32\n",
       "4.5             22\n",
       "Shared          16\n",
       "5               10\n",
       "6                8\n",
       "Private          7\n",
       "5.5              3\n",
       "7.5              2\n",
       "8                2\n",
       "6.5              2\n",
       "7                2\n",
       "Name: bathrooms_text, dtype: int64"
      ]
     },
     "execution_count": 389,
     "metadata": {},
     "output_type": "execute_result"
    }
   ],
   "source": [
    "airbnb_df_reduced['bathrooms_text'].value_counts()"
   ]
  },
  {
   "cell_type": "markdown",
   "id": "4724028a",
   "metadata": {},
   "source": [
    "There are still string values left in the bathrooms_text column. To resolve it, let's replace 'Half-bath' and 'Shared' by 0.5 and 'Private' by 1."
   ]
  },
  {
   "cell_type": "code",
   "execution_count": 392,
   "id": "ebe32c08",
   "metadata": {},
   "outputs": [
    {
     "data": {
      "text/html": [
       "<div>\n",
       "<style scoped>\n",
       "    .dataframe tbody tr th:only-of-type {\n",
       "        vertical-align: middle;\n",
       "    }\n",
       "\n",
       "    .dataframe tbody tr th {\n",
       "        vertical-align: top;\n",
       "    }\n",
       "\n",
       "    .dataframe thead th {\n",
       "        text-align: right;\n",
       "    }\n",
       "</style>\n",
       "<table border=\"1\" class=\"dataframe\">\n",
       "  <thead>\n",
       "    <tr style=\"text-align: right;\">\n",
       "      <th></th>\n",
       "      <th>neighbourhood_cleansed</th>\n",
       "      <th>latitude</th>\n",
       "      <th>longitude</th>\n",
       "      <th>property_type</th>\n",
       "      <th>room_type</th>\n",
       "      <th>accommodates</th>\n",
       "      <th>bathrooms_text</th>\n",
       "      <th>bedrooms</th>\n",
       "      <th>beds</th>\n",
       "      <th>amenities</th>\n",
       "      <th>price</th>\n",
       "      <th>number_of_reviews</th>\n",
       "    </tr>\n",
       "  </thead>\n",
       "  <tbody>\n",
       "    <tr>\n",
       "      <th>1</th>\n",
       "      <td>Bedford-Stuyvesant</td>\n",
       "      <td>40.68494</td>\n",
       "      <td>-73.95765</td>\n",
       "      <td>Entire guest suite</td>\n",
       "      <td>Entire home/apt</td>\n",
       "      <td>3</td>\n",
       "      <td>1.0</td>\n",
       "      <td>1.0</td>\n",
       "      <td>3.0</td>\n",
       "      <td>[\"Hot water\", \"Iron\", \"Children\\u2019s books a...</td>\n",
       "      <td>73.0</td>\n",
       "      <td>409</td>\n",
       "    </tr>\n",
       "    <tr>\n",
       "      <th>3</th>\n",
       "      <td>Sunset Park</td>\n",
       "      <td>40.66265</td>\n",
       "      <td>-73.99454</td>\n",
       "      <td>Entire rental unit</td>\n",
       "      <td>Entire home/apt</td>\n",
       "      <td>4</td>\n",
       "      <td>1.5</td>\n",
       "      <td>2.0</td>\n",
       "      <td>2.0</td>\n",
       "      <td>[\"Cable TV\", \"TV with standard cable\", \"Outdoo...</td>\n",
       "      <td>275.0</td>\n",
       "      <td>2</td>\n",
       "    </tr>\n",
       "    <tr>\n",
       "      <th>4</th>\n",
       "      <td>Midtown</td>\n",
       "      <td>40.76457</td>\n",
       "      <td>-73.98317</td>\n",
       "      <td>Private room in rental unit</td>\n",
       "      <td>Private room</td>\n",
       "      <td>2</td>\n",
       "      <td>1.0</td>\n",
       "      <td>1.0</td>\n",
       "      <td>1.0</td>\n",
       "      <td>[\"Hot water\", \"Body soap\", \"Iron\", \"Lock on be...</td>\n",
       "      <td>68.0</td>\n",
       "      <td>514</td>\n",
       "    </tr>\n",
       "    <tr>\n",
       "      <th>5</th>\n",
       "      <td>Upper West Side</td>\n",
       "      <td>40.80380</td>\n",
       "      <td>-73.96751</td>\n",
       "      <td>Private room in rental unit</td>\n",
       "      <td>Private room</td>\n",
       "      <td>1</td>\n",
       "      <td>1.0</td>\n",
       "      <td>1.0</td>\n",
       "      <td>1.0</td>\n",
       "      <td>[\"Fire extinguisher\", \"Hot water\", \"Carbon mon...</td>\n",
       "      <td>75.0</td>\n",
       "      <td>118</td>\n",
       "    </tr>\n",
       "    <tr>\n",
       "      <th>6</th>\n",
       "      <td>South Slope</td>\n",
       "      <td>40.66801</td>\n",
       "      <td>-73.98784</td>\n",
       "      <td>Private room in townhouse</td>\n",
       "      <td>Private room</td>\n",
       "      <td>2</td>\n",
       "      <td>1.5</td>\n",
       "      <td>1.0</td>\n",
       "      <td>1.0</td>\n",
       "      <td>[\"Free washer \\u2013 In building\", \"Hot water\"...</td>\n",
       "      <td>110.0</td>\n",
       "      <td>205</td>\n",
       "    </tr>\n",
       "  </tbody>\n",
       "</table>\n",
       "</div>"
      ],
      "text/plain": [
       "  neighbourhood_cleansed  latitude  longitude                property_type  \\\n",
       "1     Bedford-Stuyvesant  40.68494  -73.95765           Entire guest suite   \n",
       "3            Sunset Park  40.66265  -73.99454           Entire rental unit   \n",
       "4                Midtown  40.76457  -73.98317  Private room in rental unit   \n",
       "5        Upper West Side  40.80380  -73.96751  Private room in rental unit   \n",
       "6            South Slope  40.66801  -73.98784    Private room in townhouse   \n",
       "\n",
       "         room_type  accommodates  bathrooms_text  bedrooms  beds  \\\n",
       "1  Entire home/apt             3             1.0       1.0   3.0   \n",
       "3  Entire home/apt             4             1.5       2.0   2.0   \n",
       "4     Private room             2             1.0       1.0   1.0   \n",
       "5     Private room             1             1.0       1.0   1.0   \n",
       "6     Private room             2             1.5       1.0   1.0   \n",
       "\n",
       "                                           amenities  price  number_of_reviews  \n",
       "1  [\"Hot water\", \"Iron\", \"Children\\u2019s books a...   73.0                409  \n",
       "3  [\"Cable TV\", \"TV with standard cable\", \"Outdoo...  275.0                  2  \n",
       "4  [\"Hot water\", \"Body soap\", \"Iron\", \"Lock on be...   68.0                514  \n",
       "5  [\"Fire extinguisher\", \"Hot water\", \"Carbon mon...   75.0                118  \n",
       "6  [\"Free washer \\u2013 In building\", \"Hot water\"...  110.0                205  "
      ]
     },
     "execution_count": 392,
     "metadata": {},
     "output_type": "execute_result"
    }
   ],
   "source": [
    "airbnb_df_reduced.loc[((airbnb_df_reduced['bathrooms_text'] == 'Half-bath') | (airbnb_df_reduced['bathrooms_text'] == 'Shared')),'bathrooms_text'] = 0.5\n",
    "airbnb_df_reduced.loc[airbnb_df_reduced['bathrooms_text'] == 'Private','bathrooms_text'] = 1\n",
    "airbnb_df_reduced['bathrooms_text'] = airbnb_df_reduced['bathrooms_text'].astype(float)\n",
    "airbnb_df_reduced.head()"
   ]
  },
  {
   "cell_type": "markdown",
   "id": "09689d12",
   "metadata": {},
   "source": [
    "Let's take a look at the categorical variables."
   ]
  },
  {
   "cell_type": "code",
   "execution_count": 394,
   "id": "511cc5ef",
   "metadata": {},
   "outputs": [
    {
     "data": {
      "text/plain": [
       "Bedford-Stuyvesant    2625\n",
       "Williamsburg          2319\n",
       "Harlem                1766\n",
       "Bushwick              1555\n",
       "Hell's Kitchen        1368\n",
       "                      ... \n",
       "Fort Wadsworth           1\n",
       "Graniteville             1\n",
       "New Dorp                 1\n",
       "Little Neck              1\n",
       "Lighthouse Hill          1\n",
       "Name: neighbourhood_cleansed, Length: 221, dtype: int64"
      ]
     },
     "execution_count": 394,
     "metadata": {},
     "output_type": "execute_result"
    }
   ],
   "source": [
    "airbnb_df_reduced['neighbourhood_cleansed'].value_counts()"
   ]
  },
  {
   "cell_type": "code",
   "execution_count": 395,
   "id": "083a6049",
   "metadata": {},
   "outputs": [
    {
     "data": {
      "text/plain": [
       "Entire rental unit                  12959\n",
       "Private room in rental unit         10762\n",
       "Private room in residential home     1843\n",
       "Private room in townhouse            1137\n",
       "Entire residential home              1112\n",
       "                                    ...  \n",
       "Cave                                    1\n",
       "Lighthouse                              1\n",
       "Entire cabin                            1\n",
       "Private room in farm stay               1\n",
       "Private room in in-law                  1\n",
       "Name: property_type, Length: 77, dtype: int64"
      ]
     },
     "execution_count": 395,
     "metadata": {},
     "output_type": "execute_result"
    }
   ],
   "source": [
    "airbnb_df_reduced['property_type'].value_counts()"
   ]
  },
  {
   "cell_type": "code",
   "execution_count": 396,
   "id": "093440b3",
   "metadata": {},
   "outputs": [
    {
     "data": {
      "text/plain": [
       "Entire home/apt    16787\n",
       "Private room       15683\n",
       "Shared room          530\n",
       "Hotel room           160\n",
       "Name: room_type, dtype: int64"
      ]
     },
     "execution_count": 396,
     "metadata": {},
     "output_type": "execute_result"
    }
   ],
   "source": [
    "airbnb_df_reduced['room_type'].value_counts()"
   ]
  },
  {
   "cell_type": "markdown",
   "id": "fac7177b",
   "metadata": {},
   "source": [
    "The first two categorical columns contain a large number of categories. It would be difficult to incorporate these columns for KNN algorithm. Let's focus on the room_type column instead. It has only four categories - *Entire home/apt, Private room, Shared room, Hotel room.*\n",
    "\n",
    "Now we need to figure out a way of converting these into numerical values. A basic intuitive approach would be to assign values 0,1,2,3 to them. But this would be wrong since room_type column is not representing an ordinal variable. \n",
    "\n",
    "To correct it, we will use one hot encoding to include the 4 categories. Let's also drop the beds column since we already have a bedrooms column."
   ]
  },
  {
   "cell_type": "code",
   "execution_count": 397,
   "id": "c5d45f64",
   "metadata": {},
   "outputs": [
    {
     "data": {
      "text/html": [
       "<div>\n",
       "<style scoped>\n",
       "    .dataframe tbody tr th:only-of-type {\n",
       "        vertical-align: middle;\n",
       "    }\n",
       "\n",
       "    .dataframe tbody tr th {\n",
       "        vertical-align: top;\n",
       "    }\n",
       "\n",
       "    .dataframe thead th {\n",
       "        text-align: right;\n",
       "    }\n",
       "</style>\n",
       "<table border=\"1\" class=\"dataframe\">\n",
       "  <thead>\n",
       "    <tr style=\"text-align: right;\">\n",
       "      <th></th>\n",
       "      <th>room_type</th>\n",
       "      <th>accommodates</th>\n",
       "      <th>bathrooms_text</th>\n",
       "      <th>latitude</th>\n",
       "      <th>longitude</th>\n",
       "      <th>bedrooms</th>\n",
       "      <th>price</th>\n",
       "      <th>number_of_reviews</th>\n",
       "    </tr>\n",
       "  </thead>\n",
       "  <tbody>\n",
       "    <tr>\n",
       "      <th>1</th>\n",
       "      <td>Entire home/apt</td>\n",
       "      <td>3</td>\n",
       "      <td>1.0</td>\n",
       "      <td>40.68494</td>\n",
       "      <td>-73.95765</td>\n",
       "      <td>1.0</td>\n",
       "      <td>73.0</td>\n",
       "      <td>409</td>\n",
       "    </tr>\n",
       "    <tr>\n",
       "      <th>3</th>\n",
       "      <td>Entire home/apt</td>\n",
       "      <td>4</td>\n",
       "      <td>1.5</td>\n",
       "      <td>40.66265</td>\n",
       "      <td>-73.99454</td>\n",
       "      <td>2.0</td>\n",
       "      <td>275.0</td>\n",
       "      <td>2</td>\n",
       "    </tr>\n",
       "    <tr>\n",
       "      <th>4</th>\n",
       "      <td>Private room</td>\n",
       "      <td>2</td>\n",
       "      <td>1.0</td>\n",
       "      <td>40.76457</td>\n",
       "      <td>-73.98317</td>\n",
       "      <td>1.0</td>\n",
       "      <td>68.0</td>\n",
       "      <td>514</td>\n",
       "    </tr>\n",
       "    <tr>\n",
       "      <th>5</th>\n",
       "      <td>Private room</td>\n",
       "      <td>1</td>\n",
       "      <td>1.0</td>\n",
       "      <td>40.80380</td>\n",
       "      <td>-73.96751</td>\n",
       "      <td>1.0</td>\n",
       "      <td>75.0</td>\n",
       "      <td>118</td>\n",
       "    </tr>\n",
       "    <tr>\n",
       "      <th>6</th>\n",
       "      <td>Private room</td>\n",
       "      <td>2</td>\n",
       "      <td>1.5</td>\n",
       "      <td>40.66801</td>\n",
       "      <td>-73.98784</td>\n",
       "      <td>1.0</td>\n",
       "      <td>110.0</td>\n",
       "      <td>205</td>\n",
       "    </tr>\n",
       "  </tbody>\n",
       "</table>\n",
       "</div>"
      ],
      "text/plain": [
       "         room_type  accommodates  bathrooms_text  latitude  longitude  \\\n",
       "1  Entire home/apt             3             1.0  40.68494  -73.95765   \n",
       "3  Entire home/apt             4             1.5  40.66265  -73.99454   \n",
       "4     Private room             2             1.0  40.76457  -73.98317   \n",
       "5     Private room             1             1.0  40.80380  -73.96751   \n",
       "6     Private room             2             1.5  40.66801  -73.98784   \n",
       "\n",
       "   bedrooms  price  number_of_reviews  \n",
       "1       1.0   73.0                409  \n",
       "3       2.0  275.0                  2  \n",
       "4       1.0   68.0                514  \n",
       "5       1.0   75.0                118  \n",
       "6       1.0  110.0                205  "
      ]
     },
     "execution_count": 397,
     "metadata": {},
     "output_type": "execute_result"
    }
   ],
   "source": [
    "airbnb_df_knn = airbnb_df_reduced[['room_type','accommodates','bathrooms_text','latitude','longitude','bedrooms','price','number_of_reviews']].copy()\n",
    "airbnb_df_knn.head()"
   ]
  },
  {
   "cell_type": "code",
   "execution_count": 398,
   "id": "12099daf",
   "metadata": {},
   "outputs": [
    {
     "data": {
      "text/html": [
       "<div>\n",
       "<style scoped>\n",
       "    .dataframe tbody tr th:only-of-type {\n",
       "        vertical-align: middle;\n",
       "    }\n",
       "\n",
       "    .dataframe tbody tr th {\n",
       "        vertical-align: top;\n",
       "    }\n",
       "\n",
       "    .dataframe thead th {\n",
       "        text-align: right;\n",
       "    }\n",
       "</style>\n",
       "<table border=\"1\" class=\"dataframe\">\n",
       "  <thead>\n",
       "    <tr style=\"text-align: right;\">\n",
       "      <th></th>\n",
       "      <th>room_type</th>\n",
       "      <th>accommodates</th>\n",
       "      <th>bathrooms_text</th>\n",
       "      <th>latitude</th>\n",
       "      <th>longitude</th>\n",
       "      <th>bedrooms</th>\n",
       "      <th>price</th>\n",
       "      <th>number_of_reviews</th>\n",
       "      <th>Entire home/apt</th>\n",
       "      <th>Private room</th>\n",
       "      <th>Hotel room</th>\n",
       "      <th>Shared room</th>\n",
       "    </tr>\n",
       "  </thead>\n",
       "  <tbody>\n",
       "    <tr>\n",
       "      <th>1</th>\n",
       "      <td>Entire home/apt</td>\n",
       "      <td>3</td>\n",
       "      <td>1.0</td>\n",
       "      <td>40.68494</td>\n",
       "      <td>-73.95765</td>\n",
       "      <td>1.0</td>\n",
       "      <td>73.0</td>\n",
       "      <td>409</td>\n",
       "      <td>1.0</td>\n",
       "      <td>0.0</td>\n",
       "      <td>0.0</td>\n",
       "      <td>0.0</td>\n",
       "    </tr>\n",
       "    <tr>\n",
       "      <th>3</th>\n",
       "      <td>Entire home/apt</td>\n",
       "      <td>4</td>\n",
       "      <td>1.5</td>\n",
       "      <td>40.66265</td>\n",
       "      <td>-73.99454</td>\n",
       "      <td>2.0</td>\n",
       "      <td>275.0</td>\n",
       "      <td>2</td>\n",
       "      <td>1.0</td>\n",
       "      <td>0.0</td>\n",
       "      <td>0.0</td>\n",
       "      <td>0.0</td>\n",
       "    </tr>\n",
       "    <tr>\n",
       "      <th>4</th>\n",
       "      <td>Private room</td>\n",
       "      <td>2</td>\n",
       "      <td>1.0</td>\n",
       "      <td>40.76457</td>\n",
       "      <td>-73.98317</td>\n",
       "      <td>1.0</td>\n",
       "      <td>68.0</td>\n",
       "      <td>514</td>\n",
       "      <td>0.0</td>\n",
       "      <td>1.0</td>\n",
       "      <td>0.0</td>\n",
       "      <td>0.0</td>\n",
       "    </tr>\n",
       "    <tr>\n",
       "      <th>5</th>\n",
       "      <td>Private room</td>\n",
       "      <td>1</td>\n",
       "      <td>1.0</td>\n",
       "      <td>40.80380</td>\n",
       "      <td>-73.96751</td>\n",
       "      <td>1.0</td>\n",
       "      <td>75.0</td>\n",
       "      <td>118</td>\n",
       "      <td>0.0</td>\n",
       "      <td>1.0</td>\n",
       "      <td>0.0</td>\n",
       "      <td>0.0</td>\n",
       "    </tr>\n",
       "    <tr>\n",
       "      <th>6</th>\n",
       "      <td>Private room</td>\n",
       "      <td>2</td>\n",
       "      <td>1.5</td>\n",
       "      <td>40.66801</td>\n",
       "      <td>-73.98784</td>\n",
       "      <td>1.0</td>\n",
       "      <td>110.0</td>\n",
       "      <td>205</td>\n",
       "      <td>0.0</td>\n",
       "      <td>1.0</td>\n",
       "      <td>0.0</td>\n",
       "      <td>0.0</td>\n",
       "    </tr>\n",
       "  </tbody>\n",
       "</table>\n",
       "</div>"
      ],
      "text/plain": [
       "         room_type  accommodates  bathrooms_text  latitude  longitude  \\\n",
       "1  Entire home/apt             3             1.0  40.68494  -73.95765   \n",
       "3  Entire home/apt             4             1.5  40.66265  -73.99454   \n",
       "4     Private room             2             1.0  40.76457  -73.98317   \n",
       "5     Private room             1             1.0  40.80380  -73.96751   \n",
       "6     Private room             2             1.5  40.66801  -73.98784   \n",
       "\n",
       "   bedrooms  price  number_of_reviews  Entire home/apt  Private room  \\\n",
       "1       1.0   73.0                409              1.0           0.0   \n",
       "3       2.0  275.0                  2              1.0           0.0   \n",
       "4       1.0   68.0                514              0.0           1.0   \n",
       "5       1.0   75.0                118              0.0           1.0   \n",
       "6       1.0  110.0                205              0.0           1.0   \n",
       "\n",
       "   Hotel room  Shared room  \n",
       "1         0.0          0.0  \n",
       "3         0.0          0.0  \n",
       "4         0.0          0.0  \n",
       "5         0.0          0.0  \n",
       "6         0.0          0.0  "
      ]
     },
     "execution_count": 398,
     "metadata": {},
     "output_type": "execute_result"
    }
   ],
   "source": [
    "#One hot encoding for room_type\n",
    "for room_type in airbnb_df_knn['room_type'].unique():\n",
    "    airbnb_df_knn.loc[airbnb_df_knn['room_type'] == room_type, room_type] = 1\n",
    "    airbnb_df_knn.loc[airbnb_df_knn['room_type'] != room_type, room_type] = 0\n",
    "airbnb_df_knn.head()"
   ]
  },
  {
   "cell_type": "markdown",
   "id": "2201570b",
   "metadata": {},
   "source": [
    "Now that one hot encoding is done, there is no use of room_type column. Let's drop it along with the longitudes and latitudes columns for now and test with the remaining features."
   ]
  },
  {
   "cell_type": "code",
   "execution_count": 401,
   "id": "51c2b9e9",
   "metadata": {},
   "outputs": [
    {
     "data": {
      "text/html": [
       "<div>\n",
       "<style scoped>\n",
       "    .dataframe tbody tr th:only-of-type {\n",
       "        vertical-align: middle;\n",
       "    }\n",
       "\n",
       "    .dataframe tbody tr th {\n",
       "        vertical-align: top;\n",
       "    }\n",
       "\n",
       "    .dataframe thead th {\n",
       "        text-align: right;\n",
       "    }\n",
       "</style>\n",
       "<table border=\"1\" class=\"dataframe\">\n",
       "  <thead>\n",
       "    <tr style=\"text-align: right;\">\n",
       "      <th></th>\n",
       "      <th>accommodates</th>\n",
       "      <th>bathrooms_text</th>\n",
       "      <th>bedrooms</th>\n",
       "      <th>price</th>\n",
       "      <th>number_of_reviews</th>\n",
       "      <th>Entire home/apt</th>\n",
       "      <th>Private room</th>\n",
       "      <th>Hotel room</th>\n",
       "      <th>Shared room</th>\n",
       "    </tr>\n",
       "  </thead>\n",
       "  <tbody>\n",
       "    <tr>\n",
       "      <th>1</th>\n",
       "      <td>3</td>\n",
       "      <td>1.0</td>\n",
       "      <td>1.0</td>\n",
       "      <td>73.0</td>\n",
       "      <td>409</td>\n",
       "      <td>1.0</td>\n",
       "      <td>0.0</td>\n",
       "      <td>0.0</td>\n",
       "      <td>0.0</td>\n",
       "    </tr>\n",
       "    <tr>\n",
       "      <th>3</th>\n",
       "      <td>4</td>\n",
       "      <td>1.5</td>\n",
       "      <td>2.0</td>\n",
       "      <td>275.0</td>\n",
       "      <td>2</td>\n",
       "      <td>1.0</td>\n",
       "      <td>0.0</td>\n",
       "      <td>0.0</td>\n",
       "      <td>0.0</td>\n",
       "    </tr>\n",
       "    <tr>\n",
       "      <th>4</th>\n",
       "      <td>2</td>\n",
       "      <td>1.0</td>\n",
       "      <td>1.0</td>\n",
       "      <td>68.0</td>\n",
       "      <td>514</td>\n",
       "      <td>0.0</td>\n",
       "      <td>1.0</td>\n",
       "      <td>0.0</td>\n",
       "      <td>0.0</td>\n",
       "    </tr>\n",
       "    <tr>\n",
       "      <th>5</th>\n",
       "      <td>1</td>\n",
       "      <td>1.0</td>\n",
       "      <td>1.0</td>\n",
       "      <td>75.0</td>\n",
       "      <td>118</td>\n",
       "      <td>0.0</td>\n",
       "      <td>1.0</td>\n",
       "      <td>0.0</td>\n",
       "      <td>0.0</td>\n",
       "    </tr>\n",
       "    <tr>\n",
       "      <th>6</th>\n",
       "      <td>2</td>\n",
       "      <td>1.5</td>\n",
       "      <td>1.0</td>\n",
       "      <td>110.0</td>\n",
       "      <td>205</td>\n",
       "      <td>0.0</td>\n",
       "      <td>1.0</td>\n",
       "      <td>0.0</td>\n",
       "      <td>0.0</td>\n",
       "    </tr>\n",
       "  </tbody>\n",
       "</table>\n",
       "</div>"
      ],
      "text/plain": [
       "   accommodates  bathrooms_text  bedrooms  price  number_of_reviews  \\\n",
       "1             3             1.0       1.0   73.0                409   \n",
       "3             4             1.5       2.0  275.0                  2   \n",
       "4             2             1.0       1.0   68.0                514   \n",
       "5             1             1.0       1.0   75.0                118   \n",
       "6             2             1.5       1.0  110.0                205   \n",
       "\n",
       "   Entire home/apt  Private room  Hotel room  Shared room  \n",
       "1              1.0           0.0         0.0          0.0  \n",
       "3              1.0           0.0         0.0          0.0  \n",
       "4              0.0           1.0         0.0          0.0  \n",
       "5              0.0           1.0         0.0          0.0  \n",
       "6              0.0           1.0         0.0          0.0  "
      ]
     },
     "execution_count": 401,
     "metadata": {},
     "output_type": "execute_result"
    }
   ],
   "source": [
    "airbnb_df_knn.drop(columns=['room_type','latitude','longitude'], inplace=True)\n",
    "airbnb_df_knn.head()"
   ]
  },
  {
   "cell_type": "code",
   "execution_count": 402,
   "id": "ea8078c9",
   "metadata": {},
   "outputs": [
    {
     "name": "stdout",
     "output_type": "stream",
     "text": [
      "<class 'pandas.core.frame.DataFrame'>\n",
      "Int64Index: 33160 entries, 1 to 38184\n",
      "Data columns (total 9 columns):\n",
      " #   Column             Non-Null Count  Dtype  \n",
      "---  ------             --------------  -----  \n",
      " 0   accommodates       33160 non-null  int64  \n",
      " 1   bathrooms_text     33160 non-null  float64\n",
      " 2   bedrooms           33160 non-null  float64\n",
      " 3   price              33160 non-null  float64\n",
      " 4   number_of_reviews  33160 non-null  int64  \n",
      " 5   Entire home/apt    33160 non-null  float64\n",
      " 6   Private room       33160 non-null  float64\n",
      " 7   Hotel room         33160 non-null  float64\n",
      " 8   Shared room        33160 non-null  float64\n",
      "dtypes: float64(7), int64(2)\n",
      "memory usage: 2.5 MB\n"
     ]
    }
   ],
   "source": [
    "airbnb_df_knn.info()"
   ]
  },
  {
   "attachments": {},
   "cell_type": "markdown",
   "id": "6bcefa21",
   "metadata": {},
   "source": [
    "## A brief about KNN:\n",
    "Now all our columns are numeric and we can go ahead with the KNN algorithm.\n",
    "\n",
    "KNN stands for K nearest neighbors. It can be used for a classification as well as a regression problem. Since we are predicting price we will use it for regression.\n",
    "\n",
    "As the name suggests, KNN looks at it's k nearest neighbors to get a prediction for the target variable. It then takes an average of it's neighbors target variable value and use it as the final prediction for our input.\n",
    "\n",
    "An example visualisation for univariate KNN is given below:\n",
    "\n",
    "\n",
    "![](https://dq-content.s3.amazonaws.com/139/3.1-m139.svg)\n",
    "\n",
    "\n",
    "![](https://dq-content.s3.amazonaws.com/139/3.2-m139.svg)"
   ]
  },
  {
   "cell_type": "markdown",
   "id": "b7b29fa4",
   "metadata": {},
   "source": [
    "Since KNN calculates euclidean distance between data points, it is necessary that we normalize our features for proper comparison between them.\n",
    "Remember we will not scale our target variable, price."
   ]
  },
  {
   "cell_type": "code",
   "execution_count": 404,
   "id": "c2851d6a",
   "metadata": {},
   "outputs": [],
   "source": [
    "# define min max scaler\n",
    "scaler = MinMaxScaler()\n",
    "# transform data\n",
    "scaled = scaler.fit_transform(airbnb_df_knn.loc[:, airbnb_df_knn.columns != 'price'])"
   ]
  },
  {
   "cell_type": "code",
   "execution_count": 405,
   "id": "847e5360",
   "metadata": {},
   "outputs": [
    {
     "data": {
      "text/plain": [
       "array([[0.13333333, 0.125     , 0.        , ..., 0.        , 0.        ,\n",
       "        0.        ],\n",
       "       [0.2       , 0.1875    , 0.08333333, ..., 0.        , 0.        ,\n",
       "        0.        ],\n",
       "       [0.06666667, 0.125     , 0.        , ..., 1.        , 0.        ,\n",
       "        0.        ],\n",
       "       ...,\n",
       "       [0.        , 0.125     , 0.        , ..., 0.        , 0.        ,\n",
       "        1.        ],\n",
       "       [0.06666667, 0.25      , 0.        , ..., 1.        , 0.        ,\n",
       "        0.        ],\n",
       "       [0.2       , 0.125     , 0.        , ..., 0.        , 0.        ,\n",
       "        0.        ]])"
      ]
     },
     "execution_count": 405,
     "metadata": {},
     "output_type": "execute_result"
    }
   ],
   "source": [
    "scaled"
   ]
  },
  {
   "cell_type": "markdown",
   "id": "671d20ba",
   "metadata": {},
   "source": [
    "Now let's apply the KNN algorithm. But before that we need to divide our dataset into training and testing partitions. In this case we'll take 75% of our dataset as training dataset and remaining as testing dataset."
   ]
  },
  {
   "cell_type": "code",
   "execution_count": 432,
   "id": "458a15e7",
   "metadata": {},
   "outputs": [
    {
     "data": {
      "text/plain": [
       "KNeighborsRegressor(algorithm='brute')"
      ]
     },
     "execution_count": 432,
     "metadata": {},
     "output_type": "execute_result"
    }
   ],
   "source": [
    "knn = KNeighborsRegressor(algorithm='brute',n_neighbors=5)\n",
    "\n",
    "# Split full dataset into train and test sets.\n",
    "train_df = scaled[0:24828]\n",
    "test_df = scaled[24828:]\n",
    "train_target = airbnb_df_knn['price'].iloc[0:24828]\n",
    "knn.fit(train_df, train_target)"
   ]
  },
  {
   "cell_type": "code",
   "execution_count": 433,
   "id": "cbab5e20",
   "metadata": {},
   "outputs": [
    {
     "data": {
      "text/plain": [
       "array([164. , 163.4, 112. , ...,  81.6,  84.2, 271. ])"
      ]
     },
     "execution_count": 433,
     "metadata": {},
     "output_type": "execute_result"
    }
   ],
   "source": [
    "predictions = knn.predict(test_df)\n",
    "predictions"
   ]
  },
  {
   "cell_type": "code",
   "execution_count": 434,
   "id": "a9504d5d",
   "metadata": {},
   "outputs": [
    {
     "data": {
      "text/plain": [
       "28101     79.0\n",
       "28104     95.0\n",
       "28105    175.0\n",
       "28106     55.0\n",
       "28107     42.0\n",
       "         ...  \n",
       "38178     54.0\n",
       "38180     94.0\n",
       "38181     53.0\n",
       "38182     61.0\n",
       "38184    110.0\n",
       "Name: price, Length: 8332, dtype: float64"
      ]
     },
     "execution_count": 434,
     "metadata": {},
     "output_type": "execute_result"
    }
   ],
   "source": [
    "airbnb_df_knn['price'].iloc[24828:]"
   ]
  },
  {
   "cell_type": "markdown",
   "id": "9aa737f9",
   "metadata": {},
   "source": [
    "Now that we have our predictions ready, we can compare it with the true values to get the root mean squared error."
   ]
  },
  {
   "cell_type": "code",
   "execution_count": 437,
   "id": "c32e6557",
   "metadata": {},
   "outputs": [
    {
     "data": {
      "text/plain": [
       "224.43024140013037"
      ]
     },
     "execution_count": 437,
     "metadata": {},
     "output_type": "execute_result"
    }
   ],
   "source": [
    "rmse = mean_squared_error(airbnb_df_knn['price'].iloc[24828:], predictions) ** (1/2)\n",
    "rmse"
   ]
  },
  {
   "cell_type": "code",
   "execution_count": 438,
   "id": "1e3e28d4",
   "metadata": {},
   "outputs": [
    {
     "data": {
      "text/plain": [
       "count    33160.000000\n",
       "mean       159.789596\n",
       "std        295.696382\n",
       "min         10.000000\n",
       "25%         65.000000\n",
       "50%        106.000000\n",
       "75%        175.000000\n",
       "max      10000.000000\n",
       "Name: price, dtype: float64"
      ]
     },
     "execution_count": 438,
     "metadata": {},
     "output_type": "execute_result"
    }
   ],
   "source": [
    "airbnb_df_knn['price'].describe()"
   ]
  },
  {
   "cell_type": "markdown",
   "id": "fa988779",
   "metadata": {},
   "source": [
    "Our mean value for price is 159 dollars. And our root mean squared error is 224 dollars. \n",
    "An error of 224 dollars seems really bad since our average Airbnb price is 159 dollars. Let's try to improve our approach.\n",
    "\n",
    "Let's try increasing the value of K and making a plot with the corresponding RMSE. "
   ]
  },
  {
   "cell_type": "code",
   "execution_count": 445,
   "id": "9192c0bc",
   "metadata": {},
   "outputs": [],
   "source": [
    "x = []\n",
    "y = []\n",
    "for k in range (5,60,5):\n",
    "    knn = KNeighborsRegressor(algorithm='brute',n_neighbors=k)\n",
    "    train_df = scaled[0:24828]\n",
    "    test_df = scaled[24828:]\n",
    "    train_target = airbnb_df_knn['price'].iloc[0:24828]\n",
    "    knn.fit(train_df, train_target)\n",
    "    predictions = knn.predict(test_df)\n",
    "    rmse = mean_squared_error(airbnb_df_knn['price'].iloc[24828:], predictions) ** (1/2)\n",
    "    x.append(k)\n",
    "    y.append(rmse)"
   ]
  },
  {
   "cell_type": "code",
   "execution_count": 446,
   "id": "f476dbc5",
   "metadata": {},
   "outputs": [
    {
     "data": {
      "image/png": "[encoded data removed]",
      "text/plain": [
       "<Figure size 432x288 with 1 Axes>"
      ]
     },
     "metadata": {},
     "output_type": "display_data"
    }
   ],
   "source": [
    "plt.plot(x,y)\n",
    "plt.xlabel('K value')\n",
    "plt.ylabel('RMSE')\n",
    "plt.title('Finding the optimal value of hyperparameter k')\n",
    "plt.show()"
   ]
  },
  {
   "cell_type": "markdown",
   "id": "2a531c47",
   "metadata": {},
   "source": [
    "According to the plot above, an optimal value for k seems to be around 25 and the corresponding RMSE value is around 195 dollars.\n",
    "\n",
    "Now let's include longitude and latitude features also to see any further improvements in our error value.\n",
    "\n",
    "To include these features, we need to transform them. We will convert these features to cartesian coordinates so that our calculation of euclidean distance for KNN is not disturbed."
   ]
  },
  {
   "cell_type": "code",
   "execution_count": 449,
   "id": "698f5e3f",
   "metadata": {},
   "outputs": [
    {
     "data": {
      "text/html": [
       "<div>\n",
       "<style scoped>\n",
       "    .dataframe tbody tr th:only-of-type {\n",
       "        vertical-align: middle;\n",
       "    }\n",
       "\n",
       "    .dataframe tbody tr th {\n",
       "        vertical-align: top;\n",
       "    }\n",
       "\n",
       "    .dataframe thead th {\n",
       "        text-align: right;\n",
       "    }\n",
       "</style>\n",
       "<table border=\"1\" class=\"dataframe\">\n",
       "  <thead>\n",
       "    <tr style=\"text-align: right;\">\n",
       "      <th></th>\n",
       "      <th>accommodates</th>\n",
       "      <th>bathrooms_text</th>\n",
       "      <th>bedrooms</th>\n",
       "      <th>price</th>\n",
       "      <th>number_of_reviews</th>\n",
       "      <th>Entire home/apt</th>\n",
       "      <th>Private room</th>\n",
       "      <th>Hotel room</th>\n",
       "      <th>Shared room</th>\n",
       "      <th>latitude</th>\n",
       "      <th>longitude</th>\n",
       "    </tr>\n",
       "  </thead>\n",
       "  <tbody>\n",
       "    <tr>\n",
       "      <th>1</th>\n",
       "      <td>3</td>\n",
       "      <td>1.0</td>\n",
       "      <td>1.0</td>\n",
       "      <td>73.0</td>\n",
       "      <td>409</td>\n",
       "      <td>1.0</td>\n",
       "      <td>0.0</td>\n",
       "      <td>0.0</td>\n",
       "      <td>0.0</td>\n",
       "      <td>40.68494</td>\n",
       "      <td>-73.95765</td>\n",
       "    </tr>\n",
       "    <tr>\n",
       "      <th>3</th>\n",
       "      <td>4</td>\n",
       "      <td>1.5</td>\n",
       "      <td>2.0</td>\n",
       "      <td>275.0</td>\n",
       "      <td>2</td>\n",
       "      <td>1.0</td>\n",
       "      <td>0.0</td>\n",
       "      <td>0.0</td>\n",
       "      <td>0.0</td>\n",
       "      <td>40.66265</td>\n",
       "      <td>-73.99454</td>\n",
       "    </tr>\n",
       "    <tr>\n",
       "      <th>4</th>\n",
       "      <td>2</td>\n",
       "      <td>1.0</td>\n",
       "      <td>1.0</td>\n",
       "      <td>68.0</td>\n",
       "      <td>514</td>\n",
       "      <td>0.0</td>\n",
       "      <td>1.0</td>\n",
       "      <td>0.0</td>\n",
       "      <td>0.0</td>\n",
       "      <td>40.76457</td>\n",
       "      <td>-73.98317</td>\n",
       "    </tr>\n",
       "    <tr>\n",
       "      <th>5</th>\n",
       "      <td>1</td>\n",
       "      <td>1.0</td>\n",
       "      <td>1.0</td>\n",
       "      <td>75.0</td>\n",
       "      <td>118</td>\n",
       "      <td>0.0</td>\n",
       "      <td>1.0</td>\n",
       "      <td>0.0</td>\n",
       "      <td>0.0</td>\n",
       "      <td>40.80380</td>\n",
       "      <td>-73.96751</td>\n",
       "    </tr>\n",
       "    <tr>\n",
       "      <th>6</th>\n",
       "      <td>2</td>\n",
       "      <td>1.5</td>\n",
       "      <td>1.0</td>\n",
       "      <td>110.0</td>\n",
       "      <td>205</td>\n",
       "      <td>0.0</td>\n",
       "      <td>1.0</td>\n",
       "      <td>0.0</td>\n",
       "      <td>0.0</td>\n",
       "      <td>40.66801</td>\n",
       "      <td>-73.98784</td>\n",
       "    </tr>\n",
       "  </tbody>\n",
       "</table>\n",
       "</div>"
      ],
      "text/plain": [
       "   accommodates  bathrooms_text  bedrooms  price  number_of_reviews  \\\n",
       "1             3             1.0       1.0   73.0                409   \n",
       "3             4             1.5       2.0  275.0                  2   \n",
       "4             2             1.0       1.0   68.0                514   \n",
       "5             1             1.0       1.0   75.0                118   \n",
       "6             2             1.5       1.0  110.0                205   \n",
       "\n",
       "   Entire home/apt  Private room  Hotel room  Shared room  latitude  longitude  \n",
       "1              1.0           0.0         0.0          0.0  40.68494  -73.95765  \n",
       "3              1.0           0.0         0.0          0.0  40.66265  -73.99454  \n",
       "4              0.0           1.0         0.0          0.0  40.76457  -73.98317  \n",
       "5              0.0           1.0         0.0          0.0  40.80380  -73.96751  \n",
       "6              0.0           1.0         0.0          0.0  40.66801  -73.98784  "
      ]
     },
     "execution_count": 449,
     "metadata": {},
     "output_type": "execute_result"
    }
   ],
   "source": [
    "airbnb_df_knn = airbnb_df_knn.join(airbnb_df_reduced[['latitude','longitude']])\n",
    "airbnb_df_knn.head()"
   ]
  },
  {
   "cell_type": "code",
   "execution_count": 450,
   "id": "2f010510",
   "metadata": {},
   "outputs": [
    {
     "data": {
      "text/html": [
       "<div>\n",
       "<style scoped>\n",
       "    .dataframe tbody tr th:only-of-type {\n",
       "        vertical-align: middle;\n",
       "    }\n",
       "\n",
       "    .dataframe tbody tr th {\n",
       "        vertical-align: top;\n",
       "    }\n",
       "\n",
       "    .dataframe thead th {\n",
       "        text-align: right;\n",
       "    }\n",
       "</style>\n",
       "<table border=\"1\" class=\"dataframe\">\n",
       "  <thead>\n",
       "    <tr style=\"text-align: right;\">\n",
       "      <th></th>\n",
       "      <th>accommodates</th>\n",
       "      <th>bathrooms_text</th>\n",
       "      <th>bedrooms</th>\n",
       "      <th>price</th>\n",
       "      <th>number_of_reviews</th>\n",
       "      <th>Entire home/apt</th>\n",
       "      <th>Private room</th>\n",
       "      <th>Hotel room</th>\n",
       "      <th>Shared room</th>\n",
       "      <th>latitude</th>\n",
       "      <th>longitude</th>\n",
       "      <th>x</th>\n",
       "      <th>y</th>\n",
       "      <th>z</th>\n",
       "    </tr>\n",
       "  </thead>\n",
       "  <tbody>\n",
       "    <tr>\n",
       "      <th>1</th>\n",
       "      <td>3</td>\n",
       "      <td>1.0</td>\n",
       "      <td>1.0</td>\n",
       "      <td>73.0</td>\n",
       "      <td>409</td>\n",
       "      <td>1.0</td>\n",
       "      <td>0.0</td>\n",
       "      <td>0.0</td>\n",
       "      <td>0.0</td>\n",
       "      <td>40.68494</td>\n",
       "      <td>-73.95765</td>\n",
       "      <td>1335.081981</td>\n",
       "      <td>-4643.028971</td>\n",
       "      <td>4153.249219</td>\n",
       "    </tr>\n",
       "    <tr>\n",
       "      <th>3</th>\n",
       "      <td>4</td>\n",
       "      <td>1.5</td>\n",
       "      <td>2.0</td>\n",
       "      <td>275.0</td>\n",
       "      <td>2</td>\n",
       "      <td>1.0</td>\n",
       "      <td>0.0</td>\n",
       "      <td>0.0</td>\n",
       "      <td>0.0</td>\n",
       "      <td>40.66265</td>\n",
       "      <td>-73.99454</td>\n",
       "      <td>1332.537691</td>\n",
       "      <td>-4645.440373</td>\n",
       "      <td>4151.369417</td>\n",
       "    </tr>\n",
       "    <tr>\n",
       "      <th>4</th>\n",
       "      <td>2</td>\n",
       "      <td>1.0</td>\n",
       "      <td>1.0</td>\n",
       "      <td>68.0</td>\n",
       "      <td>514</td>\n",
       "      <td>0.0</td>\n",
       "      <td>1.0</td>\n",
       "      <td>0.0</td>\n",
       "      <td>0.0</td>\n",
       "      <td>40.76457</td>\n",
       "      <td>-73.98317</td>\n",
       "      <td>1331.419853</td>\n",
       "      <td>-4638.070548</td>\n",
       "      <td>4159.959587</td>\n",
       "    </tr>\n",
       "    <tr>\n",
       "      <th>5</th>\n",
       "      <td>1</td>\n",
       "      <td>1.0</td>\n",
       "      <td>1.0</td>\n",
       "      <td>75.0</td>\n",
       "      <td>118</td>\n",
       "      <td>0.0</td>\n",
       "      <td>1.0</td>\n",
       "      <td>0.0</td>\n",
       "      <td>0.0</td>\n",
       "      <td>40.80380</td>\n",
       "      <td>-73.96751</td>\n",
       "      <td>1331.900514</td>\n",
       "      <td>-4634.967876</td>\n",
       "      <td>4163.262520</td>\n",
       "    </tr>\n",
       "    <tr>\n",
       "      <th>6</th>\n",
       "      <td>2</td>\n",
       "      <td>1.5</td>\n",
       "      <td>1.0</td>\n",
       "      <td>110.0</td>\n",
       "      <td>205</td>\n",
       "      <td>0.0</td>\n",
       "      <td>1.0</td>\n",
       "      <td>0.0</td>\n",
       "      <td>0.0</td>\n",
       "      <td>40.66801</td>\n",
       "      <td>-73.98784</td>\n",
       "      <td>1332.973775</td>\n",
       "      <td>-4644.911206</td>\n",
       "      <td>4151.821504</td>\n",
       "    </tr>\n",
       "  </tbody>\n",
       "</table>\n",
       "</div>"
      ],
      "text/plain": [
       "   accommodates  bathrooms_text  bedrooms  price  number_of_reviews  \\\n",
       "1             3             1.0       1.0   73.0                409   \n",
       "3             4             1.5       2.0  275.0                  2   \n",
       "4             2             1.0       1.0   68.0                514   \n",
       "5             1             1.0       1.0   75.0                118   \n",
       "6             2             1.5       1.0  110.0                205   \n",
       "\n",
       "   Entire home/apt  Private room  Hotel room  Shared room  latitude  \\\n",
       "1              1.0           0.0         0.0          0.0  40.68494   \n",
       "3              1.0           0.0         0.0          0.0  40.66265   \n",
       "4              0.0           1.0         0.0          0.0  40.76457   \n",
       "5              0.0           1.0         0.0          0.0  40.80380   \n",
       "6              0.0           1.0         0.0          0.0  40.66801   \n",
       "\n",
       "   longitude            x            y            z  \n",
       "1  -73.95765  1335.081981 -4643.028971  4153.249219  \n",
       "3  -73.99454  1332.537691 -4645.440373  4151.369417  \n",
       "4  -73.98317  1331.419853 -4638.070548  4159.959587  \n",
       "5  -73.96751  1331.900514 -4634.967876  4163.262520  \n",
       "6  -73.98784  1332.973775 -4644.911206  4151.821504  "
      ]
     },
     "execution_count": 450,
     "metadata": {},
     "output_type": "execute_result"
    }
   ],
   "source": [
    "def get_cartesian(lat=None,lon=None):\n",
    "    lat, lon = np.deg2rad(lat), np.deg2rad(lon)\n",
    "    R = 6371 # radius of the earth\n",
    "    x = R * np.cos(lat) * np.cos(lon)\n",
    "    y = R * np.cos(lat) * np.sin(lon)\n",
    "    z = R *np.sin(lat)\n",
    "    return x,y,z\n",
    "airbnb_df_knn['x'],airbnb_df_knn['y'],airbnb_df_knn['z'] = get_cartesian(airbnb_df_knn['latitude'], airbnb_df_knn['longitude'])\n",
    "airbnb_df_knn.head()"
   ]
  },
  {
   "cell_type": "code",
   "execution_count": 451,
   "id": "cd5edc87",
   "metadata": {},
   "outputs": [
    {
     "data": {
      "text/html": [
       "<div>\n",
       "<style scoped>\n",
       "    .dataframe tbody tr th:only-of-type {\n",
       "        vertical-align: middle;\n",
       "    }\n",
       "\n",
       "    .dataframe tbody tr th {\n",
       "        vertical-align: top;\n",
       "    }\n",
       "\n",
       "    .dataframe thead th {\n",
       "        text-align: right;\n",
       "    }\n",
       "</style>\n",
       "<table border=\"1\" class=\"dataframe\">\n",
       "  <thead>\n",
       "    <tr style=\"text-align: right;\">\n",
       "      <th></th>\n",
       "      <th>accommodates</th>\n",
       "      <th>bathrooms_text</th>\n",
       "      <th>bedrooms</th>\n",
       "      <th>price</th>\n",
       "      <th>number_of_reviews</th>\n",
       "      <th>Entire home/apt</th>\n",
       "      <th>Private room</th>\n",
       "      <th>Hotel room</th>\n",
       "      <th>Shared room</th>\n",
       "      <th>x</th>\n",
       "      <th>y</th>\n",
       "      <th>z</th>\n",
       "    </tr>\n",
       "  </thead>\n",
       "  <tbody>\n",
       "    <tr>\n",
       "      <th>1</th>\n",
       "      <td>3</td>\n",
       "      <td>1.0</td>\n",
       "      <td>1.0</td>\n",
       "      <td>73.0</td>\n",
       "      <td>409</td>\n",
       "      <td>1.0</td>\n",
       "      <td>0.0</td>\n",
       "      <td>0.0</td>\n",
       "      <td>0.0</td>\n",
       "      <td>1335.081981</td>\n",
       "      <td>-4643.028971</td>\n",
       "      <td>4153.249219</td>\n",
       "    </tr>\n",
       "    <tr>\n",
       "      <th>3</th>\n",
       "      <td>4</td>\n",
       "      <td>1.5</td>\n",
       "      <td>2.0</td>\n",
       "      <td>275.0</td>\n",
       "      <td>2</td>\n",
       "      <td>1.0</td>\n",
       "      <td>0.0</td>\n",
       "      <td>0.0</td>\n",
       "      <td>0.0</td>\n",
       "      <td>1332.537691</td>\n",
       "      <td>-4645.440373</td>\n",
       "      <td>4151.369417</td>\n",
       "    </tr>\n",
       "    <tr>\n",
       "      <th>4</th>\n",
       "      <td>2</td>\n",
       "      <td>1.0</td>\n",
       "      <td>1.0</td>\n",
       "      <td>68.0</td>\n",
       "      <td>514</td>\n",
       "      <td>0.0</td>\n",
       "      <td>1.0</td>\n",
       "      <td>0.0</td>\n",
       "      <td>0.0</td>\n",
       "      <td>1331.419853</td>\n",
       "      <td>-4638.070548</td>\n",
       "      <td>4159.959587</td>\n",
       "    </tr>\n",
       "    <tr>\n",
       "      <th>5</th>\n",
       "      <td>1</td>\n",
       "      <td>1.0</td>\n",
       "      <td>1.0</td>\n",
       "      <td>75.0</td>\n",
       "      <td>118</td>\n",
       "      <td>0.0</td>\n",
       "      <td>1.0</td>\n",
       "      <td>0.0</td>\n",
       "      <td>0.0</td>\n",
       "      <td>1331.900514</td>\n",
       "      <td>-4634.967876</td>\n",
       "      <td>4163.262520</td>\n",
       "    </tr>\n",
       "    <tr>\n",
       "      <th>6</th>\n",
       "      <td>2</td>\n",
       "      <td>1.5</td>\n",
       "      <td>1.0</td>\n",
       "      <td>110.0</td>\n",
       "      <td>205</td>\n",
       "      <td>0.0</td>\n",
       "      <td>1.0</td>\n",
       "      <td>0.0</td>\n",
       "      <td>0.0</td>\n",
       "      <td>1332.973775</td>\n",
       "      <td>-4644.911206</td>\n",
       "      <td>4151.821504</td>\n",
       "    </tr>\n",
       "  </tbody>\n",
       "</table>\n",
       "</div>"
      ],
      "text/plain": [
       "   accommodates  bathrooms_text  bedrooms  price  number_of_reviews  \\\n",
       "1             3             1.0       1.0   73.0                409   \n",
       "3             4             1.5       2.0  275.0                  2   \n",
       "4             2             1.0       1.0   68.0                514   \n",
       "5             1             1.0       1.0   75.0                118   \n",
       "6             2             1.5       1.0  110.0                205   \n",
       "\n",
       "   Entire home/apt  Private room  Hotel room  Shared room            x  \\\n",
       "1              1.0           0.0         0.0          0.0  1335.081981   \n",
       "3              1.0           0.0         0.0          0.0  1332.537691   \n",
       "4              0.0           1.0         0.0          0.0  1331.419853   \n",
       "5              0.0           1.0         0.0          0.0  1331.900514   \n",
       "6              0.0           1.0         0.0          0.0  1332.973775   \n",
       "\n",
       "             y            z  \n",
       "1 -4643.028971  4153.249219  \n",
       "3 -4645.440373  4151.369417  \n",
       "4 -4638.070548  4159.959587  \n",
       "5 -4634.967876  4163.262520  \n",
       "6 -4644.911206  4151.821504  "
      ]
     },
     "execution_count": 451,
     "metadata": {},
     "output_type": "execute_result"
    }
   ],
   "source": [
    "airbnb_df_knn.drop(columns=['latitude','longitude'], inplace=True)\n",
    "airbnb_df_knn.head()"
   ]
  },
  {
   "cell_type": "code",
   "execution_count": 453,
   "id": "56fd9b57",
   "metadata": {},
   "outputs": [
    {
     "data": {
      "text/plain": [
       "215.55732556849233"
      ]
     },
     "execution_count": 453,
     "metadata": {},
     "output_type": "execute_result"
    }
   ],
   "source": [
    "# define min max scaler\n",
    "scaler = MinMaxScaler()\n",
    "# transform data\n",
    "scaled = scaler.fit_transform(airbnb_df_knn.loc[:, airbnb_df_knn.columns != 'price'])\n",
    "knn = KNeighborsRegressor(algorithm='brute',n_neighbors=25)\n",
    "train_df = scaled[0:24828]\n",
    "test_df = scaled[24828:]\n",
    "train_target = airbnb_df_knn['price'].iloc[0:24828]\n",
    "knn.fit(train_df, train_target)\n",
    "predictions = knn.predict(test_df)\n",
    "rmse = mean_squared_error(airbnb_df_knn['price'].iloc[24828:], predictions) ** (1/2)\n",
    "rmse"
   ]
  },
  {
   "cell_type": "markdown",
   "id": "215df21f",
   "metadata": {},
   "source": [
    "Adding the latitude and longitude features didn't help us much. In fact, it increased our error. Let's drop them and continue with our old features."
   ]
  },
  {
   "cell_type": "code",
   "execution_count": 467,
   "id": "5698b4f3",
   "metadata": {},
   "outputs": [
    {
     "data": {
      "text/html": [
       "<div>\n",
       "<style scoped>\n",
       "    .dataframe tbody tr th:only-of-type {\n",
       "        vertical-align: middle;\n",
       "    }\n",
       "\n",
       "    .dataframe tbody tr th {\n",
       "        vertical-align: top;\n",
       "    }\n",
       "\n",
       "    .dataframe thead th {\n",
       "        text-align: right;\n",
       "    }\n",
       "</style>\n",
       "<table border=\"1\" class=\"dataframe\">\n",
       "  <thead>\n",
       "    <tr style=\"text-align: right;\">\n",
       "      <th></th>\n",
       "      <th>accommodates</th>\n",
       "      <th>bathrooms_text</th>\n",
       "      <th>bedrooms</th>\n",
       "      <th>price</th>\n",
       "      <th>number_of_reviews</th>\n",
       "      <th>Entire home/apt</th>\n",
       "      <th>Private room</th>\n",
       "      <th>Hotel room</th>\n",
       "      <th>Shared room</th>\n",
       "    </tr>\n",
       "  </thead>\n",
       "  <tbody>\n",
       "    <tr>\n",
       "      <th>1</th>\n",
       "      <td>3</td>\n",
       "      <td>1.0</td>\n",
       "      <td>1.0</td>\n",
       "      <td>73.0</td>\n",
       "      <td>409</td>\n",
       "      <td>1.0</td>\n",
       "      <td>0.0</td>\n",
       "      <td>0.0</td>\n",
       "      <td>0.0</td>\n",
       "    </tr>\n",
       "    <tr>\n",
       "      <th>3</th>\n",
       "      <td>4</td>\n",
       "      <td>1.5</td>\n",
       "      <td>2.0</td>\n",
       "      <td>275.0</td>\n",
       "      <td>2</td>\n",
       "      <td>1.0</td>\n",
       "      <td>0.0</td>\n",
       "      <td>0.0</td>\n",
       "      <td>0.0</td>\n",
       "    </tr>\n",
       "    <tr>\n",
       "      <th>4</th>\n",
       "      <td>2</td>\n",
       "      <td>1.0</td>\n",
       "      <td>1.0</td>\n",
       "      <td>68.0</td>\n",
       "      <td>514</td>\n",
       "      <td>0.0</td>\n",
       "      <td>1.0</td>\n",
       "      <td>0.0</td>\n",
       "      <td>0.0</td>\n",
       "    </tr>\n",
       "    <tr>\n",
       "      <th>5</th>\n",
       "      <td>1</td>\n",
       "      <td>1.0</td>\n",
       "      <td>1.0</td>\n",
       "      <td>75.0</td>\n",
       "      <td>118</td>\n",
       "      <td>0.0</td>\n",
       "      <td>1.0</td>\n",
       "      <td>0.0</td>\n",
       "      <td>0.0</td>\n",
       "    </tr>\n",
       "    <tr>\n",
       "      <th>6</th>\n",
       "      <td>2</td>\n",
       "      <td>1.5</td>\n",
       "      <td>1.0</td>\n",
       "      <td>110.0</td>\n",
       "      <td>205</td>\n",
       "      <td>0.0</td>\n",
       "      <td>1.0</td>\n",
       "      <td>0.0</td>\n",
       "      <td>0.0</td>\n",
       "    </tr>\n",
       "  </tbody>\n",
       "</table>\n",
       "</div>"
      ],
      "text/plain": [
       "   accommodates  bathrooms_text  bedrooms  price  number_of_reviews  \\\n",
       "1             3             1.0       1.0   73.0                409   \n",
       "3             4             1.5       2.0  275.0                  2   \n",
       "4             2             1.0       1.0   68.0                514   \n",
       "5             1             1.0       1.0   75.0                118   \n",
       "6             2             1.5       1.0  110.0                205   \n",
       "\n",
       "   Entire home/apt  Private room  Hotel room  Shared room  \n",
       "1              1.0           0.0         0.0          0.0  \n",
       "3              1.0           0.0         0.0          0.0  \n",
       "4              0.0           1.0         0.0          0.0  \n",
       "5              0.0           1.0         0.0          0.0  \n",
       "6              0.0           1.0         0.0          0.0  "
      ]
     },
     "execution_count": 467,
     "metadata": {},
     "output_type": "execute_result"
    }
   ],
   "source": [
    "airbnb_df_knn.drop(columns=['x','y','z'], inplace=True)\n",
    "airbnb_df_knn.head()"
   ]
  },
  {
   "cell_type": "markdown",
   "id": "8c5331c1",
   "metadata": {},
   "source": [
    "## Removing outliers:"
   ]
  },
  {
   "cell_type": "markdown",
   "id": "a1635ba8",
   "metadata": {},
   "source": [
    "Now let's take a look at the distribution of price. Most of the values lie within a certain range but we have quite a few outliers."
   ]
  },
  {
   "cell_type": "code",
   "execution_count": 468,
   "id": "bd104445",
   "metadata": {},
   "outputs": [
    {
     "data": {
      "text/plain": [
       "<AxesSubplot:ylabel='Density'>"
      ]
     },
     "execution_count": 468,
     "metadata": {},
     "output_type": "execute_result"
    },
    {
     "data": {
      "image/png": "[encoded data removed]",
      "text/plain": [
       "<Figure size 432x288 with 1 Axes>"
      ]
     },
     "metadata": {},
     "output_type": "display_data"
    }
   ],
   "source": [
    "airbnb_df_knn['price'].plot.kde()"
   ]
  },
  {
   "cell_type": "code",
   "execution_count": 426,
   "id": "9875304e",
   "metadata": {},
   "outputs": [
    {
     "data": {
      "image/png": "[encoded data removed]",
      "text/plain": [
       "<Figure size 432x288 with 1 Axes>"
      ]
     },
     "metadata": {},
     "output_type": "display_data"
    }
   ],
   "source": [
    "sns.set_theme(style=\"whitegrid\")\n",
    "ax = sns.boxplot(x=airbnb_df_knn[\"price\"])"
   ]
  },
  {
   "cell_type": "code",
   "execution_count": 469,
   "id": "e752095f",
   "metadata": {},
   "outputs": [
    {
     "data": {
      "text/plain": [
       "count    33160.000000\n",
       "mean       159.789596\n",
       "std        295.696382\n",
       "min         10.000000\n",
       "25%         65.000000\n",
       "50%        106.000000\n",
       "75%        175.000000\n",
       "max      10000.000000\n",
       "Name: price, dtype: float64"
      ]
     },
     "execution_count": 469,
     "metadata": {},
     "output_type": "execute_result"
    }
   ],
   "source": [
    "airbnb_df_knn['price'].describe()"
   ]
  },
  {
   "cell_type": "markdown",
   "id": "b6e7a04c",
   "metadata": {},
   "source": [
    "The minimum value of price is 10 dollars whereas the max value is 10000 dollars. However, most of our values lie between 65 to 175 dollars. Also, the boxplot is very constricted, we can hardly see the body of the box plot.\n",
    "\n",
    "Let's remove the values above 400."
   ]
  },
  {
   "cell_type": "code",
   "execution_count": 470,
   "id": "06b4d670",
   "metadata": {},
   "outputs": [
    {
     "data": {
      "text/plain": [
       "30947"
      ]
     },
     "execution_count": 470,
     "metadata": {},
     "output_type": "execute_result"
    }
   ],
   "source": [
    "len(airbnb_df_knn[\"price\"][airbnb_df_knn['price']<400])"
   ]
  },
  {
   "cell_type": "code",
   "execution_count": 471,
   "id": "053b5a41",
   "metadata": {},
   "outputs": [],
   "source": [
    "outlier_removed_df = airbnb_df_knn[airbnb_df_knn['price']<400]"
   ]
  },
  {
   "cell_type": "code",
   "execution_count": 472,
   "id": "dd7abe72",
   "metadata": {},
   "outputs": [
    {
     "data": {
      "image/png": "[encoded data removed]",
      "text/plain": [
       "<Figure size 432x288 with 1 Axes>"
      ]
     },
     "metadata": {},
     "output_type": "display_data"
    }
   ],
   "source": [
    "ax = sns.boxplot(x=outlier_removed_df[\"price\"])"
   ]
  },
  {
   "cell_type": "code",
   "execution_count": 473,
   "id": "d5860890",
   "metadata": {},
   "outputs": [
    {
     "data": {
      "text/plain": [
       "<AxesSubplot:ylabel='Density'>"
      ]
     },
     "execution_count": 473,
     "metadata": {},
     "output_type": "execute_result"
    },
    {
     "data": {
      "image/png": "[encoded data removed]",
      "text/plain": [
       "<Figure size 432x288 with 1 Axes>"
      ]
     },
     "metadata": {},
     "output_type": "display_data"
    }
   ],
   "source": [
    "outlier_removed_df['price'].plot.kde()"
   ]
  },
  {
   "cell_type": "markdown",
   "id": "0b3dc021",
   "metadata": {},
   "source": [
    "We can now clearly see the box plot body and the kde distribution also seems within a reasonable range.\n",
    "With this new dataframe, let's again use KNN and calculate the error."
   ]
  },
  {
   "cell_type": "code",
   "execution_count": 474,
   "id": "1c5df185",
   "metadata": {},
   "outputs": [],
   "source": [
    "scaled = scaler.fit_transform(outlier_removed_df.loc[:, outlier_removed_df.columns != 'price'])\n",
    "knn = KNeighborsRegressor(algorithm='brute',n_neighbors=25)\n",
    "train_df = scaled[0:23000]\n",
    "test_df = scaled[23000:]\n",
    "train_target = outlier_removed_df['price'].iloc[0:23000]\n",
    "knn.fit(train_df, train_target)\n",
    "predictions = knn.predict(test_df)\n",
    "rmse = mean_squared_error(outlier_removed_df['price'].iloc[23000:], predictions) ** (1/2)"
   ]
  },
  {
   "cell_type": "code",
   "execution_count": 475,
   "id": "a9e22217",
   "metadata": {},
   "outputs": [
    {
     "data": {
      "text/plain": [
       "61.764754720003154"
      ]
     },
     "execution_count": 475,
     "metadata": {},
     "output_type": "execute_result"
    }
   ],
   "source": [
    "rmse"
   ]
  },
  {
   "cell_type": "code",
   "execution_count": 477,
   "id": "e0534947",
   "metadata": {},
   "outputs": [],
   "source": [
    "x = []\n",
    "y = []\n",
    "for k in range (5,60,5):\n",
    "    knn = KNeighborsRegressor(algorithm='brute',n_neighbors=k)\n",
    "    train_df = scaled[0:23000]\n",
    "    test_df = scaled[23000:]\n",
    "    train_target = outlier_removed_df['price'].iloc[0:23000]\n",
    "    knn.fit(train_df, train_target)\n",
    "    predictions = knn.predict(test_df)\n",
    "    rmse = mean_squared_error(outlier_removed_df['price'].iloc[23000:], predictions) ** (1/2)\n",
    "    x.append(k)\n",
    "    y.append(rmse)"
   ]
  },
  {
   "cell_type": "code",
   "execution_count": 478,
   "id": "e9010fdb",
   "metadata": {},
   "outputs": [
    {
     "data": {
      "image/png": "[encoded data removed]",
      "text/plain": [
       "<Figure size 432x288 with 1 Axes>"
      ]
     },
     "metadata": {},
     "output_type": "display_data"
    }
   ],
   "source": [
    "plt.plot(x,y)\n",
    "plt.xlabel('K value')\n",
    "plt.ylabel('RMSE')\n",
    "plt.title('Finding the optimal value of hyperparameter k')\n",
    "plt.show()"
   ]
  },
  {
   "cell_type": "markdown",
   "id": "050d5cad",
   "metadata": {},
   "source": [
    "The error is reduced by a huge amount after removal of outliers. The best we achieved is an error value of around 61 dollars."
   ]
  },
  {
   "cell_type": "markdown",
   "id": "f2040917",
   "metadata": {},
   "source": [
    "## Conclusion\n",
    "\n",
    "In this project, we learned how to use KNN with scikit learn. We analyzed the Airbnb new york data to predict the price of Airbnb rentals. We analyzed various features, took care of missing values, and removed outliers too to come to an optimized solution. We also used grid search to look for the right value of hyperparameter \"K\" in KNN."
   ]
  }
 ],
 "metadata": {
  "kernelspec": {
   "display_name": "Python 3",
   "language": "python",
   "name": "python3"
  },
  "language_info": {
   "codemirror_mode": {
    "name": "ipython",
    "version": 3
   },
   "file_extension": ".py",
   "mimetype": "text/x-python",
   "name": "python",
   "nbconvert_exporter": "python",
   "pygments_lexer": "ipython3",
   "version": "3.8.8"
  }
 },
 "nbformat": 4,
 "nbformat_minor": 5
}
